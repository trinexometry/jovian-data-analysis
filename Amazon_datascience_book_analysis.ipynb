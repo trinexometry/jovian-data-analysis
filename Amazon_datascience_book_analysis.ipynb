{
 "cells": [
  {
   "cell_type": "markdown",
   "metadata": {
    "id": "ZNFDCSFSa-xR"
   },
   "source": [
    "# AMAZON DATA SCEINCE BOOKS ANALYSIS\n",
    "\n",
    "While Learning this course i got really interested in data science so much so that i wanted to read a book. Buying a book from Amazon on a particular topic is a hassle as it involves conflicting choices. So i decided to create a project to analyse everything "
   ]
  },
  {
   "cell_type": "markdown",
   "metadata": {
    "id": "BdmWy2BCa-xS"
   },
   "source": [
    "## Downloading the Dataset\n",
    "\n",
    "Using the opendatasets library we will download a kaggle dataset and store it locally."
   ]
  },
  {
   "cell_type": "markdown",
   "metadata": {
    "id": "DX_vgHPXa-xT"
   },
   "source": [
    "> Instructions for downloading the dataset (delete this cell)\n",
    ">\n",
    "> - Find an interesting dataset on this page: https://www.kaggle.com/datasets?fileType=csv\n",
    "> - The data should be in CSV format, and should contain at least 3 columns and 150 rows\n",
    "> - Download the dataset using the [`opendatasets` Python library](https://github.com/JovianML/opendatasets#opendatasets)"
   ]
  },
  {
   "cell_type": "code",
   "execution_count": 1,
   "metadata": {
    "executionInfo": {
     "elapsed": 4864,
     "status": "ok",
     "timestamp": 1681364241577,
     "user": {
      "displayName": "Gaurav sharma",
      "userId": "03881896638130988318"
     },
     "user_tz": -330
    },
    "id": "uAc0deePa-xT"
   },
   "outputs": [],
   "source": [
    "!pip install jovian opendatasets --upgrade --quiet"
   ]
  },
  {
   "cell_type": "markdown",
   "metadata": {
    "id": "Ao-Jmcvea-xU"
   },
   "source": [
    "Let's begin by downloading the data, and listing the files within the dataset."
   ]
  },
  {
   "cell_type": "code",
   "execution_count": 2,
   "metadata": {
    "executionInfo": {
     "elapsed": 14,
     "status": "ok",
     "timestamp": 1681364241578,
     "user": {
      "displayName": "Gaurav sharma",
      "userId": "03881896638130988318"
     },
     "user_tz": -330
    },
    "id": "5Uxm5MLLa-xV"
   },
   "outputs": [],
   "source": [
    "# Change this\n",
    "dataset_url = 'https://www.kaggle.com/datasets/die9origephit/amazon-data-science-books?select=final_book_dataset_kaggle2.csv' "
   ]
  },
  {
   "cell_type": "code",
   "execution_count": 3,
   "metadata": {
    "colab": {
     "base_uri": "https://localhost:8080/"
    },
    "executionInfo": {
     "elapsed": 12,
     "status": "ok",
     "timestamp": 1681364241578,
     "user": {
      "displayName": "Gaurav sharma",
      "userId": "03881896638130988318"
     },
     "user_tz": -330
    },
    "id": "keA4Xtrya-xV",
    "outputId": "5fb8c2da-787d-4fe1-d7c1-fb894553865e"
   },
   "outputs": [
    {
     "name": "stdout",
     "output_type": "stream",
     "text": [
      "Skipping, found downloaded files in \"./amazon-data-science-books\" (use force=True to force download)\n"
     ]
    }
   ],
   "source": [
    "import opendatasets as od\n",
    "od.download(dataset_url)"
   ]
  },
  {
   "cell_type": "markdown",
   "metadata": {
    "id": "aEVIbzEqa-xW"
   },
   "source": [
    "The dataset has been downloaded and extracted."
   ]
  },
  {
   "cell_type": "code",
   "execution_count": 4,
   "metadata": {
    "executionInfo": {
     "elapsed": 8,
     "status": "ok",
     "timestamp": 1681364241578,
     "user": {
      "displayName": "Gaurav sharma",
      "userId": "03881896638130988318"
     },
     "user_tz": -330
    },
    "id": "WUY3akmfa-xX"
   },
   "outputs": [],
   "source": [
    "# Change this\n",
    "data_dir = './amazon-datascience-dataset'"
   ]
  },
  {
   "cell_type": "code",
   "execution_count": 5,
   "metadata": {
    "colab": {
     "base_uri": "https://localhost:8080/"
    },
    "executionInfo": {
     "elapsed": 8,
     "status": "ok",
     "timestamp": 1681364241578,
     "user": {
      "displayName": "Gaurav sharma",
      "userId": "03881896638130988318"
     },
     "user_tz": -330
    },
    "id": "1efQTN-ya-xX",
    "outputId": "5df9a3c1-7824-4c55-e032-eac3978d14d2"
   },
   "outputs": [
    {
     "name": "stdout",
     "output_type": "stream",
     "text": [
      "The file already exists\n"
     ]
    },
    {
     "data": {
      "text/plain": [
       "[]"
      ]
     },
     "execution_count": 5,
     "metadata": {},
     "output_type": "execute_result"
    }
   ],
   "source": [
    "import os\n",
    "try : \n",
    "  os.mkdir(data_dir)\n",
    "except :\n",
    "  FileExistsError : print('The file already exists')\n",
    "\n",
    "\n",
    "os.listdir(data_dir)"
   ]
  },
  {
   "cell_type": "markdown",
   "metadata": {
    "id": "w5ofgbZga-xX"
   },
   "source": [
    "Let us save and upload our work to Jovian before continuing."
   ]
  },
  {
   "cell_type": "code",
   "execution_count": 6,
   "metadata": {
    "executionInfo": {
     "elapsed": 6,
     "status": "ok",
     "timestamp": 1681364241579,
     "user": {
      "displayName": "Gaurav sharma",
      "userId": "03881896638130988318"
     },
     "user_tz": -330
    },
    "id": "ZhLYTqNza-xX"
   },
   "outputs": [],
   "source": [
    "project_name = \"zerotopandas-course-project-starter\" # change this (use lowercase letters and hyphens only)"
   ]
  },
  {
   "cell_type": "code",
   "execution_count": 7,
   "metadata": {
    "executionInfo": {
     "elapsed": 4078,
     "status": "ok",
     "timestamp": 1681364245651,
     "user": {
      "displayName": "Gaurav sharma",
      "userId": "03881896638130988318"
     },
     "user_tz": -330
    },
    "id": "ozEAk-Z6a-xY"
   },
   "outputs": [],
   "source": [
    "!pip install jovian --upgrade -q"
   ]
  },
  {
   "cell_type": "code",
   "execution_count": 8,
   "metadata": {
    "executionInfo": {
     "elapsed": 1166,
     "status": "ok",
     "timestamp": 1681364246814,
     "user": {
      "displayName": "Gaurav sharma",
      "userId": "03881896638130988318"
     },
     "user_tz": -330
    },
    "id": "uW6p-2Fna-xY"
   },
   "outputs": [],
   "source": [
    "import jovian\n",
    "import pandas as pd\n",
    "import numpy as np\n",
    "import seaborn as sns\n",
    "import matplotlib.pyplot as plt"
   ]
  },
  {
   "cell_type": "code",
   "execution_count": 9,
   "metadata": {
    "colab": {
     "base_uri": "https://localhost:8080/"
    },
    "executionInfo": {
     "elapsed": 21,
     "status": "ok",
     "timestamp": 1681364246814,
     "user": {
      "displayName": "Gaurav sharma",
      "userId": "03881896638130988318"
     },
     "user_tz": -330
    },
    "id": "eRAyPrDUa-xY",
    "outputId": "b293a30d-8873-4be5-f75f-901c53414bc8"
   },
   "outputs": [
    {
     "name": "stdout",
     "output_type": "stream",
     "text": [
      "[jovian] Detected Colab notebook...\u001b[0m\n",
      "[jovian] jovian.commit() is no longer required on Google Colab. If you ran this notebook from Jovian, \n",
      "then just save this file in Colab using Ctrl+S/Cmd+S and it will be updated on Jovian. \n",
      "Also, you can also delete this cell, it's no longer necessary.\u001b[0m\n"
     ]
    }
   ],
   "source": [
    "jovian.commit(project=project_name)"
   ]
  },
  {
   "cell_type": "markdown",
   "metadata": {
    "id": "Rzo2t2s5a-xY"
   },
   "source": [
    "## Data Preparation and Cleaning\n",
    "\n",
    "Data Preparation and Cleaning is a crucial task, as the data may vary, and because of those null values, the outcomes may also vary, giving us an altered assumptions about the data\n",
    "\n"
   ]
  },
  {
   "cell_type": "code",
   "execution_count": 10,
   "metadata": {
    "executionInfo": {
     "elapsed": 18,
     "status": "ok",
     "timestamp": 1681364246815,
     "user": {
      "displayName": "Gaurav sharma",
      "userId": "03881896638130988318"
     },
     "user_tz": -330
    },
    "id": "G-b9uu5Ea-xa"
   },
   "outputs": [],
   "source": [
    "bookdata = pd.read_csv(\"/content/amazon-data-science-books/final_book_dataset_kaggle2.csv\")"
   ]
  },
  {
   "cell_type": "markdown",
   "metadata": {
    "id": "_iNA7-PXdZNo"
   },
   "source": [
    "# **Getting to know about the data set**"
   ]
  },
  {
   "cell_type": "code",
   "execution_count": 11,
   "metadata": {
    "colab": {
     "base_uri": "https://localhost:8080/"
    },
    "executionInfo": {
     "elapsed": 18,
     "status": "ok",
     "timestamp": 1681364246815,
     "user": {
      "displayName": "Gaurav sharma",
      "userId": "03881896638130988318"
     },
     "user_tz": -330
    },
    "id": "H7czHeBsa-xa",
    "outputId": "c1f63f3c-9a20-44f4-dbcd-04e00e63e73e"
   },
   "outputs": [
    {
     "name": "stdout",
     "output_type": "stream",
     "text": [
      "<class 'pandas.core.frame.DataFrame'>\n",
      "RangeIndex: 830 entries, 0 to 829\n",
      "Data columns (total 19 columns):\n",
      " #   Column                        Non-Null Count  Dtype  \n",
      "---  ------                        --------------  -----  \n",
      " 0   title                         830 non-null    object \n",
      " 1   author                        657 non-null    object \n",
      " 2   price                         722 non-null    float64\n",
      " 3   price (including used books)  722 non-null    object \n",
      " 4   pages                         745 non-null    object \n",
      " 5   avg_reviews                   702 non-null    float64\n",
      " 6   n_reviews                     702 non-null    object \n",
      " 7   star5                         702 non-null    object \n",
      " 8   star4                         635 non-null    object \n",
      " 9   star3                         554 non-null    object \n",
      " 10  star2                         451 non-null    object \n",
      " 11  star1                         328 non-null    object \n",
      " 12  dimensions                    644 non-null    object \n",
      " 13  weight                        651 non-null    object \n",
      " 14  language                      759 non-null    object \n",
      " 15  publisher                     714 non-null    object \n",
      " 16  ISBN_13                       665 non-null    object \n",
      " 17  link                          830 non-null    object \n",
      " 18  complete_link                 830 non-null    object \n",
      "dtypes: float64(2), object(17)\n",
      "memory usage: 123.3+ KB\n"
     ]
    }
   ],
   "source": [
    "bookdata.info()"
   ]
  },
  {
   "cell_type": "markdown",
   "metadata": {
    "id": "GjMnbKtydngs"
   },
   "source": [
    "# **Sample of the dataframe**"
   ]
  },
  {
   "cell_type": "code",
   "execution_count": 12,
   "metadata": {
    "colab": {
     "base_uri": "https://localhost:8080/",
     "height": 1000
    },
    "executionInfo": {
     "elapsed": 16,
     "status": "ok",
     "timestamp": 1681364246815,
     "user": {
      "displayName": "Gaurav sharma",
      "userId": "03881896638130988318"
     },
     "user_tz": -330
    },
    "id": "4UNmX9KXa-xa",
    "outputId": "fac2c115-2e7f-4654-f40f-84772632dba1"
   },
   "outputs": [
    {
     "data": {
      "text/html": [
       "\n",
       "  <div id=\"df-b9956246-155e-458c-ab2e-ec14ffd599df\">\n",
       "    <div class=\"colab-df-container\">\n",
       "      <div>\n",
       "<style scoped>\n",
       "    .dataframe tbody tr th:only-of-type {\n",
       "        vertical-align: middle;\n",
       "    }\n",
       "\n",
       "    .dataframe tbody tr th {\n",
       "        vertical-align: top;\n",
       "    }\n",
       "\n",
       "    .dataframe thead th {\n",
       "        text-align: right;\n",
       "    }\n",
       "</style>\n",
       "<table border=\"1\" class=\"dataframe\">\n",
       "  <thead>\n",
       "    <tr style=\"text-align: right;\">\n",
       "      <th></th>\n",
       "      <th>title</th>\n",
       "      <th>author</th>\n",
       "      <th>price</th>\n",
       "      <th>price (including used books)</th>\n",
       "      <th>pages</th>\n",
       "      <th>avg_reviews</th>\n",
       "      <th>n_reviews</th>\n",
       "      <th>star5</th>\n",
       "      <th>star4</th>\n",
       "      <th>star3</th>\n",
       "      <th>star2</th>\n",
       "      <th>star1</th>\n",
       "      <th>dimensions</th>\n",
       "      <th>weight</th>\n",
       "      <th>language</th>\n",
       "      <th>publisher</th>\n",
       "      <th>ISBN_13</th>\n",
       "      <th>link</th>\n",
       "      <th>complete_link</th>\n",
       "    </tr>\n",
       "  </thead>\n",
       "  <tbody>\n",
       "    <tr>\n",
       "      <th>108</th>\n",
       "      <td>Everyday Adventures with Unruly Data</td>\n",
       "      <td>[ Melanie Feinberg]</td>\n",
       "      <td>35.00</td>\n",
       "      <td>35</td>\n",
       "      <td>336</td>\n",
       "      <td>NaN</td>\n",
       "      <td>NaN</td>\n",
       "      <td>NaN</td>\n",
       "      <td>NaN</td>\n",
       "      <td>NaN</td>\n",
       "      <td>NaN</td>\n",
       "      <td>NaN</td>\n",
       "      <td>6 x 0.85 x 9 inches</td>\n",
       "      <td>14.4 ounces</td>\n",
       "      <td>English</td>\n",
       "      <td>The MIT Press (October 11, 2022)</td>\n",
       "      <td>978-0262544405</td>\n",
       "      <td>/Everyday-Adventures-Unruly-Melanie-Feinberg/d...</td>\n",
       "      <td>https://www.amazon.com/Everyday-Adventures-Unr...</td>\n",
       "    </tr>\n",
       "    <tr>\n",
       "      <th>682</th>\n",
       "      <td>Building Data Science Applications with FastAP...</td>\n",
       "      <td>[ François Voron]</td>\n",
       "      <td>31.49</td>\n",
       "      <td>31.49</td>\n",
       "      <td>426</td>\n",
       "      <td>4.4</td>\n",
       "      <td>29</td>\n",
       "      <td>69%</td>\n",
       "      <td>6%</td>\n",
       "      <td>19%</td>\n",
       "      <td>6%</td>\n",
       "      <td>NaN</td>\n",
       "      <td>NaN</td>\n",
       "      <td>NaN</td>\n",
       "      <td>English</td>\n",
       "      <td>Packt Publishing; 1st edition (October 8, 2021)</td>\n",
       "      <td>NaN</td>\n",
       "      <td>/Building-Data-Science-Applications-FastAPI-eb...</td>\n",
       "      <td>https://www.amazon.com/Building-Data-Science-A...</td>\n",
       "    </tr>\n",
       "    <tr>\n",
       "      <th>553</th>\n",
       "      <td>Modeling and Simulation in Python</td>\n",
       "      <td>[ Allen B. Downey]</td>\n",
       "      <td>39.99</td>\n",
       "      <td>39.99</td>\n",
       "      <td>272</td>\n",
       "      <td>NaN</td>\n",
       "      <td>NaN</td>\n",
       "      <td>NaN</td>\n",
       "      <td>NaN</td>\n",
       "      <td>NaN</td>\n",
       "      <td>NaN</td>\n",
       "      <td>NaN</td>\n",
       "      <td>0.04 x 0.04 x 0.04 inches</td>\n",
       "      <td>13 ounces</td>\n",
       "      <td>English</td>\n",
       "      <td>No Starch Press (May 30, 2023)</td>\n",
       "      <td>978-1718502161</td>\n",
       "      <td>/Modeling-Simulation-Python-Allen-Downey/dp/17...</td>\n",
       "      <td>https://www.amazon.com/Modeling-Simulation-Pyt...</td>\n",
       "    </tr>\n",
       "    <tr>\n",
       "      <th>804</th>\n",
       "      <td>Essential Calculus Skills Practice Workbook wi...</td>\n",
       "      <td>[ Chris McMullen]</td>\n",
       "      <td>9.99</td>\n",
       "      <td>9.99</td>\n",
       "      <td>151</td>\n",
       "      <td>4.6</td>\n",
       "      <td>1,537</td>\n",
       "      <td>74%</td>\n",
       "      <td>16%</td>\n",
       "      <td>7%</td>\n",
       "      <td>1%</td>\n",
       "      <td>2%</td>\n",
       "      <td>8 x 0.35 x 10 inches</td>\n",
       "      <td>11 ounces</td>\n",
       "      <td>English</td>\n",
       "      <td>Zishka Publishing (August 16, 2018)</td>\n",
       "      <td>978-1941691243</td>\n",
       "      <td>/gp/slredirect/picassoRedirect.html/ref=pa_sp_...</td>\n",
       "      <td>https://www.amazon.com/gp/slredirect/picassoRe...</td>\n",
       "    </tr>\n",
       "    <tr>\n",
       "      <th>48</th>\n",
       "      <td>An Introduction to Statistics and Data Analysi...</td>\n",
       "      <td>[ Lisa Daniels,  and , Nicholas W. Minot]</td>\n",
       "      <td>75.24</td>\n",
       "      <td>24.50 - 75.24</td>\n",
       "      <td>392</td>\n",
       "      <td>4.6</td>\n",
       "      <td>32</td>\n",
       "      <td>69%</td>\n",
       "      <td>22%</td>\n",
       "      <td>9%</td>\n",
       "      <td>NaN</td>\n",
       "      <td>NaN</td>\n",
       "      <td>7.38 x 0.89 x 9.13 inches</td>\n",
       "      <td>1.52 pounds</td>\n",
       "      <td>English</td>\n",
       "      <td>SAGE Publications, Inc; 1st edition (January 2...</td>\n",
       "      <td>978-1506371832</td>\n",
       "      <td>/Introduction-Statistics-Analysis-Using-Stata%...</td>\n",
       "      <td>https://www.amazon.com/Introduction-Statistics...</td>\n",
       "    </tr>\n",
       "    <tr>\n",
       "      <th>574</th>\n",
       "      <td>Real-World Python: A Hacker's Guide to Solving...</td>\n",
       "      <td>[ Lee Vaughan]</td>\n",
       "      <td>34.95</td>\n",
       "      <td>21.75 - 34.95</td>\n",
       "      <td>360</td>\n",
       "      <td>4.7</td>\n",
       "      <td>96</td>\n",
       "      <td>79%</td>\n",
       "      <td>15%</td>\n",
       "      <td>2%</td>\n",
       "      <td>2%</td>\n",
       "      <td>1%</td>\n",
       "      <td>7 x 0.93 x 9.25 inches</td>\n",
       "      <td>1.5 pounds</td>\n",
       "      <td>English</td>\n",
       "      <td>No Starch Press (November 5, 2020)</td>\n",
       "      <td></td>\n",
       "      <td>/Real-World-Python-Hackers-Solving-Problems/dp...</td>\n",
       "      <td>https://www.amazon.com/Real-World-Python-Hacke...</td>\n",
       "    </tr>\n",
       "    <tr>\n",
       "      <th>31</th>\n",
       "      <td>Coding Games in Python (Computer Coding for Kids)</td>\n",
       "      <td>[ DK]</td>\n",
       "      <td>13.99</td>\n",
       "      <td>13.99</td>\n",
       "      <td>224</td>\n",
       "      <td>4.5</td>\n",
       "      <td>274</td>\n",
       "      <td>70%</td>\n",
       "      <td>17%</td>\n",
       "      <td>6%</td>\n",
       "      <td>4%</td>\n",
       "      <td>4%</td>\n",
       "      <td>7.75 x 0.63 x 9.19 inches</td>\n",
       "      <td>1.54 pounds</td>\n",
       "      <td>English</td>\n",
       "      <td>DK Children; Illustrated edition (July 3, 2018)</td>\n",
       "      <td>$13.99</td>\n",
       "      <td>/Coding-Games-Python-DK/dp/1465473610/ref=sr_1...</td>\n",
       "      <td>https://www.amazon.com/Coding-Games-Python-DK/...</td>\n",
       "    </tr>\n",
       "    <tr>\n",
       "      <th>179</th>\n",
       "      <td>The Definitive Guide to DAX: Business Intellig...</td>\n",
       "      <td>NaN</td>\n",
       "      <td>43.99</td>\n",
       "      <td>42.11 - 43.99</td>\n",
       "      <td>768</td>\n",
       "      <td>4.7</td>\n",
       "      <td>1,155</td>\n",
       "      <td>83%</td>\n",
       "      <td>12%</td>\n",
       "      <td>3%</td>\n",
       "      <td>1%</td>\n",
       "      <td>1%</td>\n",
       "      <td>7.38 x 1.73 x 9.13 inches</td>\n",
       "      <td>3 pounds</td>\n",
       "      <td>English</td>\n",
       "      <td>Microsoft Press; 2nd edition (July 2, 2019)</td>\n",
       "      <td>978-1509306978</td>\n",
       "      <td>/Definitive-Guide-DAX-intelligence-Microsoft/d...</td>\n",
       "      <td>https://www.amazon.com/Definitive-Guide-DAX-in...</td>\n",
       "    </tr>\n",
       "    <tr>\n",
       "      <th>324</th>\n",
       "      <td>Hypothesis Testing: An Intuitive Guide for Mak...</td>\n",
       "      <td>[ Jim Frost]</td>\n",
       "      <td>23.74</td>\n",
       "      <td>23.74</td>\n",
       "      <td>381</td>\n",
       "      <td>4.5</td>\n",
       "      <td>112</td>\n",
       "      <td>77%</td>\n",
       "      <td>13%</td>\n",
       "      <td>3%</td>\n",
       "      <td>2%</td>\n",
       "      <td>5%</td>\n",
       "      <td>6 x 0.86 x 9 inches</td>\n",
       "      <td>1.12 pounds</td>\n",
       "      <td>English</td>\n",
       "      <td>Statistics By Jim Publishing (September 14, 2020)</td>\n",
       "      <td>978-1735431154</td>\n",
       "      <td>/Hypothesis-Testing-Intuitive-Making-Decisions...</td>\n",
       "      <td>https://www.amazon.com/Hypothesis-Testing-Intu...</td>\n",
       "    </tr>\n",
       "    <tr>\n",
       "      <th>462</th>\n",
       "      <td>Python Programming for Beginners: An Introduct...</td>\n",
       "      <td>[ Jason Cannon]</td>\n",
       "      <td>NaN</td>\n",
       "      <td>NaN</td>\n",
       "      <td>164</td>\n",
       "      <td>4.5</td>\n",
       "      <td>1,001</td>\n",
       "      <td>72%</td>\n",
       "      <td>15%</td>\n",
       "      <td>8%</td>\n",
       "      <td>3%</td>\n",
       "      <td>2%</td>\n",
       "      <td>NaN</td>\n",
       "      <td>NaN</td>\n",
       "      <td>English</td>\n",
       "      <td>NaN</td>\n",
       "      <td>NaN</td>\n",
       "      <td>/Python-Programming-Beginners-Introduction-Com...</td>\n",
       "      <td>https://www.amazon.com/Python-Programming-Begi...</td>\n",
       "    </tr>\n",
       "    <tr>\n",
       "      <th>70</th>\n",
       "      <td>Spectrum Grades 6-8 Data Analysis &amp; Probabilit...</td>\n",
       "      <td>NaN</td>\n",
       "      <td>25.00</td>\n",
       "      <td>25</td>\n",
       "      <td>128</td>\n",
       "      <td>4.6</td>\n",
       "      <td>142</td>\n",
       "      <td>76%</td>\n",
       "      <td>13%</td>\n",
       "      <td>6%</td>\n",
       "      <td>2%</td>\n",
       "      <td>3%</td>\n",
       "      <td>8.38 x 0.31 x 10.88 inches</td>\n",
       "      <td>9.9 ounces</td>\n",
       "      <td>English</td>\n",
       "      <td>Spectrum; Workbook edition (February 25, 2015)</td>\n",
       "      <td>978-1483816630</td>\n",
       "      <td>/Probability-Workbook-6th-8th-Calculating-Stat...</td>\n",
       "      <td>https://www.amazon.com/Probability-Workbook-6t...</td>\n",
       "    </tr>\n",
       "    <tr>\n",
       "      <th>589</th>\n",
       "      <td>Learn More Python 3 the Hard Way: The Next Ste...</td>\n",
       "      <td>NaN</td>\n",
       "      <td>28.56</td>\n",
       "      <td>22.85 - 28.56</td>\n",
       "      <td>240</td>\n",
       "      <td>4.6</td>\n",
       "      <td>106</td>\n",
       "      <td>78%</td>\n",
       "      <td>13%</td>\n",
       "      <td>4%</td>\n",
       "      <td>2%</td>\n",
       "      <td>3%</td>\n",
       "      <td>6.9 x 0.6 x 9 inches</td>\n",
       "      <td>13.8 ounces</td>\n",
       "      <td>English</td>\n",
       "      <td>Addison-Wesley Professional; 1st edition (Sept...</td>\n",
       "      <td>978-0134123486</td>\n",
       "      <td>/Learn-More-Python-Hard-Way/dp/0134123484/ref=...</td>\n",
       "      <td>https://www.amazon.com/Learn-More-Python-Hard-...</td>\n",
       "    </tr>\n",
       "    <tr>\n",
       "      <th>394</th>\n",
       "      <td>Python: - The Bible- 3 Manuscripts in 1 book: ...</td>\n",
       "      <td>NaN</td>\n",
       "      <td>27.97</td>\n",
       "      <td>27.97</td>\n",
       "      <td>375</td>\n",
       "      <td>4.3</td>\n",
       "      <td>4,228</td>\n",
       "      <td>64%</td>\n",
       "      <td>16%</td>\n",
       "      <td>10%</td>\n",
       "      <td>4%</td>\n",
       "      <td>6%</td>\n",
       "      <td>6 x 0.85 x 9 inches</td>\n",
       "      <td>1.11 pounds</td>\n",
       "      <td>English</td>\n",
       "      <td>Independently published (April 28, 2018)</td>\n",
       "      <td>978-1980953906</td>\n",
       "      <td>/gp/slredirect/picassoRedirect.html/ref=pa_sp_...</td>\n",
       "      <td>https://www.amazon.com/gp/slredirect/picassoRe...</td>\n",
       "    </tr>\n",
       "    <tr>\n",
       "      <th>30</th>\n",
       "      <td>Preparing For A Data Interview: Learn Enough P...</td>\n",
       "      <td>[ Jonelle Hoop]</td>\n",
       "      <td>10.74</td>\n",
       "      <td>10.74</td>\n",
       "      <td>24</td>\n",
       "      <td>NaN</td>\n",
       "      <td>NaN</td>\n",
       "      <td>NaN</td>\n",
       "      <td>NaN</td>\n",
       "      <td>NaN</td>\n",
       "      <td>NaN</td>\n",
       "      <td>NaN</td>\n",
       "      <td>6 x 0.06 x 9 inches</td>\n",
       "      <td>3.04 ounces</td>\n",
       "      <td>English</td>\n",
       "      <td>Independently published (December 10, 2022)</td>\n",
       "      <td>979-8367888348</td>\n",
       "      <td>/Preparing-Data-Interview-Enough-Project/dp/B0...</td>\n",
       "      <td>https://www.amazon.com/Preparing-Data-Intervie...</td>\n",
       "    </tr>\n",
       "    <tr>\n",
       "      <th>246</th>\n",
       "      <td>System Design Interview: The Ultimate Guide to...</td>\n",
       "      <td>[ Liam DeSantis]</td>\n",
       "      <td>23.99</td>\n",
       "      <td>23.99</td>\n",
       "      <td>114</td>\n",
       "      <td>4.9</td>\n",
       "      <td>254</td>\n",
       "      <td>93%</td>\n",
       "      <td>7%</td>\n",
       "      <td>NaN</td>\n",
       "      <td>NaN</td>\n",
       "      <td>NaN</td>\n",
       "      <td>7 x 0.26 x 10 inches</td>\n",
       "      <td>9.9 ounces</td>\n",
       "      <td>English</td>\n",
       "      <td>Independently published (November 30, 2022)</td>\n",
       "      <td>979-8366393140</td>\n",
       "      <td>/gp/slredirect/picassoRedirect.html/ref=pa_sp_...</td>\n",
       "      <td>https://www.amazon.com/gp/slredirect/picassoRe...</td>\n",
       "    </tr>\n",
       "    <tr>\n",
       "      <th>789</th>\n",
       "      <td>Google BigQuery: The Definitive Guide: Data Wa...</td>\n",
       "      <td>[ Valliappa Lakshmanan,  and , Jordan Tigani]</td>\n",
       "      <td>29.99</td>\n",
       "      <td>29.99</td>\n",
       "      <td>522</td>\n",
       "      <td>4.5</td>\n",
       "      <td>105</td>\n",
       "      <td>71%</td>\n",
       "      <td>19%</td>\n",
       "      <td>5%</td>\n",
       "      <td>3%</td>\n",
       "      <td>2%</td>\n",
       "      <td>7.01 x 1 x 9.17 inches</td>\n",
       "      <td>1.81 pounds</td>\n",
       "      <td>English</td>\n",
       "      <td>O'Reilly Media; 1st edition (November 19, 2019)</td>\n",
       "      <td></td>\n",
       "      <td>/Google-BigQuery-Definitive-Warehousing-Analyt...</td>\n",
       "      <td>https://www.amazon.com/Google-BigQuery-Definit...</td>\n",
       "    </tr>\n",
       "    <tr>\n",
       "      <th>174</th>\n",
       "      <td>Microsoft Office 365 for Beginners: 12 Books I...</td>\n",
       "      <td>[ Jamie Keet]</td>\n",
       "      <td>12.99</td>\n",
       "      <td>12.99</td>\n",
       "      <td>300</td>\n",
       "      <td>4.9</td>\n",
       "      <td>410</td>\n",
       "      <td>97%</td>\n",
       "      <td>3%</td>\n",
       "      <td>1%</td>\n",
       "      <td>NaN</td>\n",
       "      <td>NaN</td>\n",
       "      <td>8.5 x 0.68 x 11 inches</td>\n",
       "      <td>1.9 pounds</td>\n",
       "      <td>English</td>\n",
       "      <td>;</td>\n",
       "      <td></td>\n",
       "      <td>/gp/slredirect/picassoRedirect.html/ref=pa_sp_...</td>\n",
       "      <td>https://www.amazon.com/gp/slredirect/picassoRe...</td>\n",
       "    </tr>\n",
       "    <tr>\n",
       "      <th>45</th>\n",
       "      <td>Dyadic Data Analysis (Methodology in the Socia...</td>\n",
       "      <td>NaN</td>\n",
       "      <td>55.32</td>\n",
       "      <td>50.99 - 55.32</td>\n",
       "      <td>458</td>\n",
       "      <td>4.4</td>\n",
       "      <td>24</td>\n",
       "      <td>73%</td>\n",
       "      <td>12%</td>\n",
       "      <td>7%</td>\n",
       "      <td>7%</td>\n",
       "      <td>NaN</td>\n",
       "      <td>6 x 0.94 x 9 inches</td>\n",
       "      <td>1.45 pounds</td>\n",
       "      <td>English</td>\n",
       "      <td>The Guilford Press; 1st edition (November 26, ...</td>\n",
       "      <td>978-1462546138</td>\n",
       "      <td>/Dyadic-Analysis-Methodology-Social-Sciences/d...</td>\n",
       "      <td>https://www.amazon.com/Dyadic-Analysis-Methodo...</td>\n",
       "    </tr>\n",
       "    <tr>\n",
       "      <th>386</th>\n",
       "      <td>2Pack Reptile Plants Hanging Silk Terrarium Pl...</td>\n",
       "      <td>NaN</td>\n",
       "      <td>NaN</td>\n",
       "      <td>NaN</td>\n",
       "      <td>NaN</td>\n",
       "      <td>4.4</td>\n",
       "      <td>701</td>\n",
       "      <td>68%</td>\n",
       "      <td>15%</td>\n",
       "      <td>9%</td>\n",
       "      <td>4%</td>\n",
       "      <td>3%</td>\n",
       "      <td>NaN</td>\n",
       "      <td>NaN</td>\n",
       "      <td>NaN</td>\n",
       "      <td>NaN</td>\n",
       "      <td>NaN</td>\n",
       "      <td>/Reptile-Hanging-Terrarium-Suction-Decorations...</td>\n",
       "      <td>https://www.amazon.com/Reptile-Hanging-Terrari...</td>\n",
       "    </tr>\n",
       "    <tr>\n",
       "      <th>632</th>\n",
       "      <td>Dead Simple Python: Idiomatic Python for the I...</td>\n",
       "      <td>[ Jason C McDonald]</td>\n",
       "      <td>28.99</td>\n",
       "      <td>28.99</td>\n",
       "      <td>705</td>\n",
       "      <td>NaN</td>\n",
       "      <td>NaN</td>\n",
       "      <td>NaN</td>\n",
       "      <td>NaN</td>\n",
       "      <td>NaN</td>\n",
       "      <td>NaN</td>\n",
       "      <td>NaN</td>\n",
       "      <td>NaN</td>\n",
       "      <td>NaN</td>\n",
       "      <td>English</td>\n",
       "      <td>No Starch Press (November 22, 2022)</td>\n",
       "      <td>NaN</td>\n",
       "      <td>/Dead-Simple-Python-Idiomatic-Programmers-eboo...</td>\n",
       "      <td>https://www.amazon.com/Dead-Simple-Python-Idio...</td>\n",
       "    </tr>\n",
       "  </tbody>\n",
       "</table>\n",
       "</div>\n",
       "      <button class=\"colab-df-convert\" onclick=\"convertToInteractive('df-b9956246-155e-458c-ab2e-ec14ffd599df')\"\n",
       "              title=\"Convert this dataframe to an interactive table.\"\n",
       "              style=\"display:none;\">\n",
       "        \n",
       "  <svg xmlns=\"http://www.w3.org/2000/svg\" height=\"24px\"viewBox=\"0 0 24 24\"\n",
       "       width=\"24px\">\n",
       "    <path d=\"M0 0h24v24H0V0z\" fill=\"none\"/>\n",
       "    <path d=\"M18.56 5.44l.94 2.06.94-2.06 2.06-.94-2.06-.94-.94-2.06-.94 2.06-2.06.94zm-11 1L8.5 8.5l.94-2.06 2.06-.94-2.06-.94L8.5 2.5l-.94 2.06-2.06.94zm10 10l.94 2.06.94-2.06 2.06-.94-2.06-.94-.94-2.06-.94 2.06-2.06.94z\"/><path d=\"M17.41 7.96l-1.37-1.37c-.4-.4-.92-.59-1.43-.59-.52 0-1.04.2-1.43.59L10.3 9.45l-7.72 7.72c-.78.78-.78 2.05 0 2.83L4 21.41c.39.39.9.59 1.41.59.51 0 1.02-.2 1.41-.59l7.78-7.78 2.81-2.81c.8-.78.8-2.07 0-2.86zM5.41 20L4 18.59l7.72-7.72 1.47 1.35L5.41 20z\"/>\n",
       "  </svg>\n",
       "      </button>\n",
       "      \n",
       "  <style>\n",
       "    .colab-df-container {\n",
       "      display:flex;\n",
       "      flex-wrap:wrap;\n",
       "      gap: 12px;\n",
       "    }\n",
       "\n",
       "    .colab-df-convert {\n",
       "      background-color: #E8F0FE;\n",
       "      border: none;\n",
       "      border-radius: 50%;\n",
       "      cursor: pointer;\n",
       "      display: none;\n",
       "      fill: #1967D2;\n",
       "      height: 32px;\n",
       "      padding: 0 0 0 0;\n",
       "      width: 32px;\n",
       "    }\n",
       "\n",
       "    .colab-df-convert:hover {\n",
       "      background-color: #E2EBFA;\n",
       "      box-shadow: 0px 1px 2px rgba(60, 64, 67, 0.3), 0px 1px 3px 1px rgba(60, 64, 67, 0.15);\n",
       "      fill: #174EA6;\n",
       "    }\n",
       "\n",
       "    [theme=dark] .colab-df-convert {\n",
       "      background-color: #3B4455;\n",
       "      fill: #D2E3FC;\n",
       "    }\n",
       "\n",
       "    [theme=dark] .colab-df-convert:hover {\n",
       "      background-color: #434B5C;\n",
       "      box-shadow: 0px 1px 3px 1px rgba(0, 0, 0, 0.15);\n",
       "      filter: drop-shadow(0px 1px 2px rgba(0, 0, 0, 0.3));\n",
       "      fill: #FFFFFF;\n",
       "    }\n",
       "  </style>\n",
       "\n",
       "      <script>\n",
       "        const buttonEl =\n",
       "          document.querySelector('#df-b9956246-155e-458c-ab2e-ec14ffd599df button.colab-df-convert');\n",
       "        buttonEl.style.display =\n",
       "          google.colab.kernel.accessAllowed ? 'block' : 'none';\n",
       "\n",
       "        async function convertToInteractive(key) {\n",
       "          const element = document.querySelector('#df-b9956246-155e-458c-ab2e-ec14ffd599df');\n",
       "          const dataTable =\n",
       "            await google.colab.kernel.invokeFunction('convertToInteractive',\n",
       "                                                     [key], {});\n",
       "          if (!dataTable) return;\n",
       "\n",
       "          const docLinkHtml = 'Like what you see? Visit the ' +\n",
       "            '<a target=\"_blank\" href=https://colab.research.google.com/notebooks/data_table.ipynb>data table notebook</a>'\n",
       "            + ' to learn more about interactive tables.';\n",
       "          element.innerHTML = '';\n",
       "          dataTable['output_type'] = 'display_data';\n",
       "          await google.colab.output.renderOutput(dataTable, element);\n",
       "          const docLink = document.createElement('div');\n",
       "          docLink.innerHTML = docLinkHtml;\n",
       "          element.appendChild(docLink);\n",
       "        }\n",
       "      </script>\n",
       "    </div>\n",
       "  </div>\n",
       "  "
      ],
      "text/plain": [
       "                                                 title  \\\n",
       "108               Everyday Adventures with Unruly Data   \n",
       "682  Building Data Science Applications with FastAP...   \n",
       "553                  Modeling and Simulation in Python   \n",
       "804  Essential Calculus Skills Practice Workbook wi...   \n",
       "48   An Introduction to Statistics and Data Analysi...   \n",
       "574  Real-World Python: A Hacker's Guide to Solving...   \n",
       "31   Coding Games in Python (Computer Coding for Kids)   \n",
       "179  The Definitive Guide to DAX: Business Intellig...   \n",
       "324  Hypothesis Testing: An Intuitive Guide for Mak...   \n",
       "462  Python Programming for Beginners: An Introduct...   \n",
       "70   Spectrum Grades 6-8 Data Analysis & Probabilit...   \n",
       "589  Learn More Python 3 the Hard Way: The Next Ste...   \n",
       "394  Python: - The Bible- 3 Manuscripts in 1 book: ...   \n",
       "30   Preparing For A Data Interview: Learn Enough P...   \n",
       "246  System Design Interview: The Ultimate Guide to...   \n",
       "789  Google BigQuery: The Definitive Guide: Data Wa...   \n",
       "174  Microsoft Office 365 for Beginners: 12 Books I...   \n",
       "45   Dyadic Data Analysis (Methodology in the Socia...   \n",
       "386  2Pack Reptile Plants Hanging Silk Terrarium Pl...   \n",
       "632  Dead Simple Python: Idiomatic Python for the I...   \n",
       "\n",
       "                                            author  price  \\\n",
       "108                            [ Melanie Feinberg]  35.00   \n",
       "682                              [ François Voron]  31.49   \n",
       "553                             [ Allen B. Downey]  39.99   \n",
       "804                              [ Chris McMullen]   9.99   \n",
       "48       [ Lisa Daniels,  and , Nicholas W. Minot]  75.24   \n",
       "574                                 [ Lee Vaughan]  34.95   \n",
       "31                                           [ DK]  13.99   \n",
       "179                                            NaN  43.99   \n",
       "324                                   [ Jim Frost]  23.74   \n",
       "462                                [ Jason Cannon]    NaN   \n",
       "70                                             NaN  25.00   \n",
       "589                                            NaN  28.56   \n",
       "394                                            NaN  27.97   \n",
       "30                                 [ Jonelle Hoop]  10.74   \n",
       "246                               [ Liam DeSantis]  23.99   \n",
       "789  [ Valliappa Lakshmanan,  and , Jordan Tigani]  29.99   \n",
       "174                                  [ Jamie Keet]  12.99   \n",
       "45                                             NaN  55.32   \n",
       "386                                            NaN    NaN   \n",
       "632                            [ Jason C McDonald]  28.99   \n",
       "\n",
       "    price (including used books) pages  avg_reviews n_reviews star5 star4  \\\n",
       "108                           35   336          NaN       NaN   NaN   NaN   \n",
       "682                        31.49   426          4.4        29   69%    6%   \n",
       "553                        39.99   272          NaN       NaN   NaN   NaN   \n",
       "804                         9.99   151          4.6     1,537   74%   16%   \n",
       "48                24.50 - 75.24    392          4.6        32   69%   22%   \n",
       "574               21.75 - 34.95    360          4.7        96   79%   15%   \n",
       "31                         13.99   224          4.5       274   70%   17%   \n",
       "179               42.11 - 43.99    768          4.7     1,155   83%   12%   \n",
       "324                        23.74   381          4.5       112   77%   13%   \n",
       "462                          NaN   164          4.5     1,001   72%   15%   \n",
       "70                            25   128          4.6       142   76%   13%   \n",
       "589               22.85 - 28.56    240          4.6       106   78%   13%   \n",
       "394                        27.97   375          4.3     4,228   64%   16%   \n",
       "30                         10.74    24          NaN       NaN   NaN   NaN   \n",
       "246                        23.99   114          4.9       254   93%    7%   \n",
       "789                        29.99   522          4.5       105   71%   19%   \n",
       "174                        12.99   300          4.9       410   97%    3%   \n",
       "45                50.99 - 55.32    458          4.4        24   73%   12%   \n",
       "386                          NaN   NaN          4.4       701   68%   15%   \n",
       "632                        28.99   705          NaN       NaN   NaN   NaN   \n",
       "\n",
       "    star3 star2 star1                  dimensions       weight language  \\\n",
       "108   NaN   NaN   NaN         6 x 0.85 x 9 inches  14.4 ounces  English   \n",
       "682   19%    6%   NaN                         NaN          NaN  English   \n",
       "553   NaN   NaN   NaN   0.04 x 0.04 x 0.04 inches    13 ounces  English   \n",
       "804    7%    1%    2%        8 x 0.35 x 10 inches    11 ounces  English   \n",
       "48     9%   NaN   NaN   7.38 x 0.89 x 9.13 inches  1.52 pounds  English   \n",
       "574    2%    2%    1%      7 x 0.93 x 9.25 inches   1.5 pounds  English   \n",
       "31     6%    4%    4%   7.75 x 0.63 x 9.19 inches  1.54 pounds  English   \n",
       "179    3%    1%    1%   7.38 x 1.73 x 9.13 inches     3 pounds  English   \n",
       "324    3%    2%    5%         6 x 0.86 x 9 inches  1.12 pounds  English   \n",
       "462    8%    3%    2%                         NaN          NaN  English   \n",
       "70     6%    2%    3%  8.38 x 0.31 x 10.88 inches   9.9 ounces  English   \n",
       "589    4%    2%    3%        6.9 x 0.6 x 9 inches  13.8 ounces  English   \n",
       "394   10%    4%    6%         6 x 0.85 x 9 inches  1.11 pounds  English   \n",
       "30    NaN   NaN   NaN         6 x 0.06 x 9 inches  3.04 ounces  English   \n",
       "246   NaN   NaN   NaN        7 x 0.26 x 10 inches   9.9 ounces  English   \n",
       "789    5%    3%    2%      7.01 x 1 x 9.17 inches  1.81 pounds  English   \n",
       "174    1%   NaN   NaN      8.5 x 0.68 x 11 inches   1.9 pounds  English   \n",
       "45     7%    7%   NaN         6 x 0.94 x 9 inches  1.45 pounds  English   \n",
       "386    9%    4%    3%                         NaN          NaN      NaN   \n",
       "632   NaN   NaN   NaN                         NaN          NaN  English   \n",
       "\n",
       "                                             publisher         ISBN_13  \\\n",
       "108                   The MIT Press (October 11, 2022)  978-0262544405   \n",
       "682    Packt Publishing; 1st edition (October 8, 2021)             NaN   \n",
       "553                     No Starch Press (May 30, 2023)  978-1718502161   \n",
       "804                Zishka Publishing (August 16, 2018)  978-1941691243   \n",
       "48   SAGE Publications, Inc; 1st edition (January 2...  978-1506371832   \n",
       "574                 No Starch Press (November 5, 2020)                   \n",
       "31     DK Children; Illustrated edition (July 3, 2018)         $13.99    \n",
       "179        Microsoft Press; 2nd edition (July 2, 2019)  978-1509306978   \n",
       "324  Statistics By Jim Publishing (September 14, 2020)  978-1735431154   \n",
       "462                                                NaN             NaN   \n",
       "70      Spectrum; Workbook edition (February 25, 2015)  978-1483816630   \n",
       "589  Addison-Wesley Professional; 1st edition (Sept...  978-0134123486   \n",
       "394           Independently published (April 28, 2018)  978-1980953906   \n",
       "30         Independently published (December 10, 2022)  979-8367888348   \n",
       "246        Independently published (November 30, 2022)  979-8366393140   \n",
       "789    O'Reilly Media; 1st edition (November 19, 2019)                   \n",
       "174                                                  ;                   \n",
       "45   The Guilford Press; 1st edition (November 26, ...  978-1462546138   \n",
       "386                                                NaN             NaN   \n",
       "632                No Starch Press (November 22, 2022)             NaN   \n",
       "\n",
       "                                                  link  \\\n",
       "108  /Everyday-Adventures-Unruly-Melanie-Feinberg/d...   \n",
       "682  /Building-Data-Science-Applications-FastAPI-eb...   \n",
       "553  /Modeling-Simulation-Python-Allen-Downey/dp/17...   \n",
       "804  /gp/slredirect/picassoRedirect.html/ref=pa_sp_...   \n",
       "48   /Introduction-Statistics-Analysis-Using-Stata%...   \n",
       "574  /Real-World-Python-Hackers-Solving-Problems/dp...   \n",
       "31   /Coding-Games-Python-DK/dp/1465473610/ref=sr_1...   \n",
       "179  /Definitive-Guide-DAX-intelligence-Microsoft/d...   \n",
       "324  /Hypothesis-Testing-Intuitive-Making-Decisions...   \n",
       "462  /Python-Programming-Beginners-Introduction-Com...   \n",
       "70   /Probability-Workbook-6th-8th-Calculating-Stat...   \n",
       "589  /Learn-More-Python-Hard-Way/dp/0134123484/ref=...   \n",
       "394  /gp/slredirect/picassoRedirect.html/ref=pa_sp_...   \n",
       "30   /Preparing-Data-Interview-Enough-Project/dp/B0...   \n",
       "246  /gp/slredirect/picassoRedirect.html/ref=pa_sp_...   \n",
       "789  /Google-BigQuery-Definitive-Warehousing-Analyt...   \n",
       "174  /gp/slredirect/picassoRedirect.html/ref=pa_sp_...   \n",
       "45   /Dyadic-Analysis-Methodology-Social-Sciences/d...   \n",
       "386  /Reptile-Hanging-Terrarium-Suction-Decorations...   \n",
       "632  /Dead-Simple-Python-Idiomatic-Programmers-eboo...   \n",
       "\n",
       "                                         complete_link  \n",
       "108  https://www.amazon.com/Everyday-Adventures-Unr...  \n",
       "682  https://www.amazon.com/Building-Data-Science-A...  \n",
       "553  https://www.amazon.com/Modeling-Simulation-Pyt...  \n",
       "804  https://www.amazon.com/gp/slredirect/picassoRe...  \n",
       "48   https://www.amazon.com/Introduction-Statistics...  \n",
       "574  https://www.amazon.com/Real-World-Python-Hacke...  \n",
       "31   https://www.amazon.com/Coding-Games-Python-DK/...  \n",
       "179  https://www.amazon.com/Definitive-Guide-DAX-in...  \n",
       "324  https://www.amazon.com/Hypothesis-Testing-Intu...  \n",
       "462  https://www.amazon.com/Python-Programming-Begi...  \n",
       "70   https://www.amazon.com/Probability-Workbook-6t...  \n",
       "589  https://www.amazon.com/Learn-More-Python-Hard-...  \n",
       "394  https://www.amazon.com/gp/slredirect/picassoRe...  \n",
       "30   https://www.amazon.com/Preparing-Data-Intervie...  \n",
       "246  https://www.amazon.com/gp/slredirect/picassoRe...  \n",
       "789  https://www.amazon.com/Google-BigQuery-Definit...  \n",
       "174  https://www.amazon.com/gp/slredirect/picassoRe...  \n",
       "45   https://www.amazon.com/Dyadic-Analysis-Methodo...  \n",
       "386  https://www.amazon.com/Reptile-Hanging-Terrari...  \n",
       "632  https://www.amazon.com/Dead-Simple-Python-Idio...  "
      ]
     },
     "execution_count": 12,
     "metadata": {},
     "output_type": "execute_result"
    }
   ],
   "source": [
    "bookdata.sample(20)"
   ]
  },
  {
   "cell_type": "code",
   "execution_count": 13,
   "metadata": {
    "executionInfo": {
     "elapsed": 16,
     "status": "ok",
     "timestamp": 1681364246816,
     "user": {
      "displayName": "Gaurav sharma",
      "userId": "03881896638130988318"
     },
     "user_tz": -330
    },
    "id": "Z4dVC4pKa-xa"
   },
   "outputs": [],
   "source": [
    "bookdata2  = bookdata.copy()"
   ]
  },
  {
   "cell_type": "code",
   "execution_count": 14,
   "metadata": {
    "colab": {
     "base_uri": "https://localhost:8080/"
    },
    "executionInfo": {
     "elapsed": 16,
     "status": "ok",
     "timestamp": 1681364246816,
     "user": {
      "displayName": "Gaurav sharma",
      "userId": "03881896638130988318"
     },
     "user_tz": -330
    },
    "id": "Yd6rUf10vK_u",
    "outputId": "fbe706b6-0d78-4c94-d7ab-558c8ce6712d"
   },
   "outputs": [
    {
     "name": "stdout",
     "output_type": "stream",
     "text": [
      "<class 'pandas.core.frame.DataFrame'>\n",
      "RangeIndex: 830 entries, 0 to 829\n",
      "Data columns (total 19 columns):\n",
      " #   Column                        Non-Null Count  Dtype  \n",
      "---  ------                        --------------  -----  \n",
      " 0   title                         830 non-null    object \n",
      " 1   author                        657 non-null    object \n",
      " 2   price                         722 non-null    float64\n",
      " 3   price (including used books)  722 non-null    object \n",
      " 4   pages                         745 non-null    object \n",
      " 5   avg_reviews                   702 non-null    float64\n",
      " 6   n_reviews                     702 non-null    object \n",
      " 7   star5                         702 non-null    object \n",
      " 8   star4                         635 non-null    object \n",
      " 9   star3                         554 non-null    object \n",
      " 10  star2                         451 non-null    object \n",
      " 11  star1                         328 non-null    object \n",
      " 12  dimensions                    644 non-null    object \n",
      " 13  weight                        651 non-null    object \n",
      " 14  language                      759 non-null    object \n",
      " 15  publisher                     714 non-null    object \n",
      " 16  ISBN_13                       665 non-null    object \n",
      " 17  link                          830 non-null    object \n",
      " 18  complete_link                 830 non-null    object \n",
      "dtypes: float64(2), object(17)\n",
      "memory usage: 123.3+ KB\n"
     ]
    }
   ],
   "source": [
    "bookdata2.info()"
   ]
  },
  {
   "cell_type": "code",
   "execution_count": 15,
   "metadata": {
    "colab": {
     "base_uri": "https://localhost:8080/",
     "height": 300
    },
    "executionInfo": {
     "elapsed": 14,
     "status": "ok",
     "timestamp": 1681364246816,
     "user": {
      "displayName": "Gaurav sharma",
      "userId": "03881896638130988318"
     },
     "user_tz": -330
    },
    "id": "Mw-_bsHynfMh",
    "outputId": "2278bd3e-5865-4938-eed2-350799050774"
   },
   "outputs": [
    {
     "data": {
      "text/html": [
       "\n",
       "  <div id=\"df-c242c5e2-0cac-451e-a22b-50993cfb5cde\">\n",
       "    <div class=\"colab-df-container\">\n",
       "      <div>\n",
       "<style scoped>\n",
       "    .dataframe tbody tr th:only-of-type {\n",
       "        vertical-align: middle;\n",
       "    }\n",
       "\n",
       "    .dataframe tbody tr th {\n",
       "        vertical-align: top;\n",
       "    }\n",
       "\n",
       "    .dataframe thead th {\n",
       "        text-align: right;\n",
       "    }\n",
       "</style>\n",
       "<table border=\"1\" class=\"dataframe\">\n",
       "  <thead>\n",
       "    <tr style=\"text-align: right;\">\n",
       "      <th></th>\n",
       "      <th>price</th>\n",
       "      <th>avg_reviews</th>\n",
       "    </tr>\n",
       "  </thead>\n",
       "  <tbody>\n",
       "    <tr>\n",
       "      <th>count</th>\n",
       "      <td>722.000000</td>\n",
       "      <td>702.000000</td>\n",
       "    </tr>\n",
       "    <tr>\n",
       "      <th>mean</th>\n",
       "      <td>46.491537</td>\n",
       "      <td>4.472080</td>\n",
       "    </tr>\n",
       "    <tr>\n",
       "      <th>std</th>\n",
       "      <td>63.292394</td>\n",
       "      <td>0.409608</td>\n",
       "    </tr>\n",
       "    <tr>\n",
       "      <th>min</th>\n",
       "      <td>0.990000</td>\n",
       "      <td>1.000000</td>\n",
       "    </tr>\n",
       "    <tr>\n",
       "      <th>25%</th>\n",
       "      <td>23.725000</td>\n",
       "      <td>4.325000</td>\n",
       "    </tr>\n",
       "    <tr>\n",
       "      <th>50%</th>\n",
       "      <td>39.490000</td>\n",
       "      <td>4.500000</td>\n",
       "    </tr>\n",
       "    <tr>\n",
       "      <th>75%</th>\n",
       "      <td>51.990000</td>\n",
       "      <td>4.700000</td>\n",
       "    </tr>\n",
       "    <tr>\n",
       "      <th>max</th>\n",
       "      <td>1318.740000</td>\n",
       "      <td>5.000000</td>\n",
       "    </tr>\n",
       "  </tbody>\n",
       "</table>\n",
       "</div>\n",
       "      <button class=\"colab-df-convert\" onclick=\"convertToInteractive('df-c242c5e2-0cac-451e-a22b-50993cfb5cde')\"\n",
       "              title=\"Convert this dataframe to an interactive table.\"\n",
       "              style=\"display:none;\">\n",
       "        \n",
       "  <svg xmlns=\"http://www.w3.org/2000/svg\" height=\"24px\"viewBox=\"0 0 24 24\"\n",
       "       width=\"24px\">\n",
       "    <path d=\"M0 0h24v24H0V0z\" fill=\"none\"/>\n",
       "    <path d=\"M18.56 5.44l.94 2.06.94-2.06 2.06-.94-2.06-.94-.94-2.06-.94 2.06-2.06.94zm-11 1L8.5 8.5l.94-2.06 2.06-.94-2.06-.94L8.5 2.5l-.94 2.06-2.06.94zm10 10l.94 2.06.94-2.06 2.06-.94-2.06-.94-.94-2.06-.94 2.06-2.06.94z\"/><path d=\"M17.41 7.96l-1.37-1.37c-.4-.4-.92-.59-1.43-.59-.52 0-1.04.2-1.43.59L10.3 9.45l-7.72 7.72c-.78.78-.78 2.05 0 2.83L4 21.41c.39.39.9.59 1.41.59.51 0 1.02-.2 1.41-.59l7.78-7.78 2.81-2.81c.8-.78.8-2.07 0-2.86zM5.41 20L4 18.59l7.72-7.72 1.47 1.35L5.41 20z\"/>\n",
       "  </svg>\n",
       "      </button>\n",
       "      \n",
       "  <style>\n",
       "    .colab-df-container {\n",
       "      display:flex;\n",
       "      flex-wrap:wrap;\n",
       "      gap: 12px;\n",
       "    }\n",
       "\n",
       "    .colab-df-convert {\n",
       "      background-color: #E8F0FE;\n",
       "      border: none;\n",
       "      border-radius: 50%;\n",
       "      cursor: pointer;\n",
       "      display: none;\n",
       "      fill: #1967D2;\n",
       "      height: 32px;\n",
       "      padding: 0 0 0 0;\n",
       "      width: 32px;\n",
       "    }\n",
       "\n",
       "    .colab-df-convert:hover {\n",
       "      background-color: #E2EBFA;\n",
       "      box-shadow: 0px 1px 2px rgba(60, 64, 67, 0.3), 0px 1px 3px 1px rgba(60, 64, 67, 0.15);\n",
       "      fill: #174EA6;\n",
       "    }\n",
       "\n",
       "    [theme=dark] .colab-df-convert {\n",
       "      background-color: #3B4455;\n",
       "      fill: #D2E3FC;\n",
       "    }\n",
       "\n",
       "    [theme=dark] .colab-df-convert:hover {\n",
       "      background-color: #434B5C;\n",
       "      box-shadow: 0px 1px 3px 1px rgba(0, 0, 0, 0.15);\n",
       "      filter: drop-shadow(0px 1px 2px rgba(0, 0, 0, 0.3));\n",
       "      fill: #FFFFFF;\n",
       "    }\n",
       "  </style>\n",
       "\n",
       "      <script>\n",
       "        const buttonEl =\n",
       "          document.querySelector('#df-c242c5e2-0cac-451e-a22b-50993cfb5cde button.colab-df-convert');\n",
       "        buttonEl.style.display =\n",
       "          google.colab.kernel.accessAllowed ? 'block' : 'none';\n",
       "\n",
       "        async function convertToInteractive(key) {\n",
       "          const element = document.querySelector('#df-c242c5e2-0cac-451e-a22b-50993cfb5cde');\n",
       "          const dataTable =\n",
       "            await google.colab.kernel.invokeFunction('convertToInteractive',\n",
       "                                                     [key], {});\n",
       "          if (!dataTable) return;\n",
       "\n",
       "          const docLinkHtml = 'Like what you see? Visit the ' +\n",
       "            '<a target=\"_blank\" href=https://colab.research.google.com/notebooks/data_table.ipynb>data table notebook</a>'\n",
       "            + ' to learn more about interactive tables.';\n",
       "          element.innerHTML = '';\n",
       "          dataTable['output_type'] = 'display_data';\n",
       "          await google.colab.output.renderOutput(dataTable, element);\n",
       "          const docLink = document.createElement('div');\n",
       "          docLink.innerHTML = docLinkHtml;\n",
       "          element.appendChild(docLink);\n",
       "        }\n",
       "      </script>\n",
       "    </div>\n",
       "  </div>\n",
       "  "
      ],
      "text/plain": [
       "             price  avg_reviews\n",
       "count   722.000000   702.000000\n",
       "mean     46.491537     4.472080\n",
       "std      63.292394     0.409608\n",
       "min       0.990000     1.000000\n",
       "25%      23.725000     4.325000\n",
       "50%      39.490000     4.500000\n",
       "75%      51.990000     4.700000\n",
       "max    1318.740000     5.000000"
      ]
     },
     "execution_count": 15,
     "metadata": {},
     "output_type": "execute_result"
    }
   ],
   "source": [
    "bookdata2.describe()"
   ]
  },
  {
   "cell_type": "markdown",
   "metadata": {
    "id": "op6jgCXQnjHU"
   },
   "source": [
    "**changing values to numeric**"
   ]
  },
  {
   "cell_type": "code",
   "execution_count": 16,
   "metadata": {
    "executionInfo": {
     "elapsed": 14,
     "status": "ok",
     "timestamp": 1681364246817,
     "user": {
      "displayName": "Gaurav sharma",
      "userId": "03881896638130988318"
     },
     "user_tz": -330
    },
    "id": "p1aAFMUEnpSl"
   },
   "outputs": [],
   "source": [
    "bookdata2['pages'] = pd.to_numeric(bookdata2['pages'], errors = 'coerce')\n",
    "bookdata2['price (including used books)'] = pd.to_numeric(bookdata2['price (including used books)'], errors = 'coerce')\n",
    "bookdata2['n_reviews'] = pd.to_numeric(bookdata2['n_reviews'], errors = 'coerce')\n",
    "bookdata2['weight'] = bookdata2['n_reviews'].map(str)\n"
   ]
  },
  {
   "cell_type": "code",
   "execution_count": 17,
   "metadata": {
    "executionInfo": {
     "elapsed": 14,
     "status": "ok",
     "timestamp": 1681364246817,
     "user": {
      "displayName": "Gaurav sharma",
      "userId": "03881896638130988318"
     },
     "user_tz": -330
    },
    "id": "UjEPoMbApWeL"
   },
   "outputs": [],
   "source": [
    "bookdata2.drop(bookdata2[bookdata2['price (including used books)'] < 10].index, inplace = True)"
   ]
  },
  {
   "cell_type": "markdown",
   "metadata": {
    "id": "R2cb4JPYeyKW"
   },
   "source": [
    "# **DATA PREPROCESSING AND CLEANING**\n",
    "\n",
    "If we check the row 16 in this dataset, the book is \n",
    "\"MONTY PYTHON AND THE HOLY GRAIL\"\n",
    "\n",
    "which is not a book that teaches python but it's a comic book authored by Monty Python \n",
    "hence we need to drop such rows"
   ]
  },
  {
   "cell_type": "code",
   "execution_count": 18,
   "metadata": {
    "colab": {
     "base_uri": "https://localhost:8080/"
    },
    "executionInfo": {
     "elapsed": 14,
     "status": "ok",
     "timestamp": 1681364246817,
     "user": {
      "displayName": "Gaurav sharma",
      "userId": "03881896638130988318"
     },
     "user_tz": -330
    },
    "id": "S6BGxoYxa-xb",
    "outputId": "4af3c6a5-edaa-49b5-ecb2-b531124503ca"
   },
   "outputs": [
    {
     "name": "stdout",
     "output_type": "stream",
     "text": [
      "<class 'pandas.core.frame.DataFrame'>\n",
      "Int64Index: 787 entries, 1 to 829\n",
      "Data columns (total 19 columns):\n",
      " #   Column                        Non-Null Count  Dtype  \n",
      "---  ------                        --------------  -----  \n",
      " 0   title                         787 non-null    object \n",
      " 1   author                        628 non-null    object \n",
      " 2   price                         679 non-null    float64\n",
      " 3   price (including used books)  418 non-null    float64\n",
      " 4   pages                         701 non-null    float64\n",
      " 5   avg_reviews                   665 non-null    float64\n",
      " 6   n_reviews                     627 non-null    float64\n",
      " 7   star5                         665 non-null    object \n",
      " 8   star4                         604 non-null    object \n",
      " 9   star3                         523 non-null    object \n",
      " 10  star2                         425 non-null    object \n",
      " 11  star1                         307 non-null    object \n",
      " 12  dimensions                    614 non-null    object \n",
      " 13  weight                        787 non-null    object \n",
      " 14  language                      718 non-null    object \n",
      " 15  publisher                     680 non-null    object \n",
      " 16  ISBN_13                       640 non-null    object \n",
      " 17  link                          787 non-null    object \n",
      " 18  complete_link                 787 non-null    object \n",
      "dtypes: float64(5), object(14)\n",
      "memory usage: 123.0+ KB\n"
     ]
    }
   ],
   "source": [
    "bookdata2.info()"
   ]
  },
  {
   "cell_type": "markdown",
   "metadata": {
    "id": "-wtDObfujgBZ"
   },
   "source": [
    "**To see how many percentage of the data is actually null column wise**"
   ]
  },
  {
   "cell_type": "code",
   "execution_count": 19,
   "metadata": {
    "colab": {
     "base_uri": "https://localhost:8080/"
    },
    "executionInfo": {
     "elapsed": 11,
     "status": "ok",
     "timestamp": 1681364246817,
     "user": {
      "displayName": "Gaurav sharma",
      "userId": "03881896638130988318"
     },
     "user_tz": -330
    },
    "id": "JLpeghqwjmYs",
    "outputId": "95fcacd4-d826-43fa-8878-5c22830beb16"
   },
   "outputs": [
    {
     "data": {
      "text/plain": [
       "title                            0.000000\n",
       "author                          20.843373\n",
       "price                           13.012048\n",
       "price (including used books)    13.012048\n",
       "pages                           10.240964\n",
       "avg_reviews                     15.421687\n",
       "n_reviews                       15.421687\n",
       "star5                           15.421687\n",
       "star4                           23.493976\n",
       "star3                           33.253012\n",
       "star2                           45.662651\n",
       "star1                           60.481928\n",
       "dimensions                      22.409639\n",
       "weight                          21.566265\n",
       "language                         8.554217\n",
       "publisher                       13.975904\n",
       "ISBN_13                         19.879518\n",
       "link                             0.000000\n",
       "complete_link                    0.000000\n",
       "dtype: float64"
      ]
     },
     "execution_count": 19,
     "metadata": {},
     "output_type": "execute_result"
    }
   ],
   "source": [
    "null_var = bookdata.isnull().sum()/bookdata.shape[0] * 100\n",
    "null_var"
   ]
  },
  {
   "cell_type": "markdown",
   "metadata": {
    "id": "I9oMskCZgKIU"
   },
   "source": [
    "**we can see that these types of books have mostly all attributes set to NaN**"
   ]
  },
  {
   "cell_type": "markdown",
   "metadata": {
    "id": "wSQXpJ4IhPwN"
   },
   "source": [
    "***The most efficient startegy and the ideation to fix and handle all the missing values is to make a heatmap of it and then curating it in such a way that you see a clear heatmap with no whitelines of NaN values***"
   ]
  },
  {
   "cell_type": "code",
   "execution_count": 20,
   "metadata": {
    "colab": {
     "base_uri": "https://localhost:8080/",
     "height": 1000
    },
    "executionInfo": {
     "elapsed": 3474,
     "status": "ok",
     "timestamp": 1681364250283,
     "user": {
      "displayName": "Gaurav sharma",
      "userId": "03881896638130988318"
     },
     "user_tz": -330
    },
    "id": "Dk5XFZhEa-xb",
    "outputId": "79cdefa3-3a7d-42b8-d12c-f0ce9f19f7fe"
   },
   "outputs": [
    {
     "data": {
      "text/plain": [
       "<Axes: >"
      ]
     },
     "execution_count": 20,
     "metadata": {},
     "output_type": "execute_result"
    },
    {
     "data": {
      "image/png": "[encoded data removed]",
      "text/plain": [
       "<Figure size 2500x2500 with 2 Axes>"
      ]
     },
     "metadata": {},
     "output_type": "display_data"
    }
   ],
   "source": [
    "plt.figure(figsize = (25,25))\n",
    "sns.heatmap(bookdata2.isnull())"
   ]
  },
  {
   "cell_type": "markdown",
   "metadata": {
    "id": "Oq0JKp3FipMA"
   },
   "source": [
    "**The most Missing values are in the coloums which are star1, star2....**\n",
    "\n",
    "So it would be best to delete it"
   ]
  },
  {
   "cell_type": "code",
   "execution_count": 21,
   "metadata": {
    "executionInfo": {
     "elapsed": 34,
     "status": "ok",
     "timestamp": 1681364250284,
     "user": {
      "displayName": "Gaurav sharma",
      "userId": "03881896638130988318"
     },
     "user_tz": -330
    },
    "id": "W5JimJfMa-xb"
   },
   "outputs": [],
   "source": [
    "bookdata2.drop(['star1', 'star2', 'star3', 'star4', 'dimensions'], inplace = True, axis = 1)"
   ]
  },
  {
   "cell_type": "code",
   "execution_count": 22,
   "metadata": {
    "colab": {
     "base_uri": "https://localhost:8080/",
     "height": 636
    },
    "executionInfo": {
     "elapsed": 32,
     "status": "ok",
     "timestamp": 1681364250284,
     "user": {
      "displayName": "Gaurav sharma",
      "userId": "03881896638130988318"
     },
     "user_tz": -330
    },
    "id": "GkvldFNajNpL",
    "outputId": "c13e8dc9-55c9-46ec-ddb4-58e8952a875c"
   },
   "outputs": [
    {
     "data": {
      "text/plain": [
       "<Axes: >"
      ]
     },
     "execution_count": 22,
     "metadata": {},
     "output_type": "execute_result"
    },
    {
     "data": {
      "image/png": "[encoded data removed]",
      "text/plain": [
       "<Figure size 640x480 with 2 Axes>"
      ]
     },
     "metadata": {},
     "output_type": "display_data"
    }
   ],
   "source": [
    "sns.heatmap(bookdata2.isnull())"
   ]
  },
  {
   "cell_type": "code",
   "execution_count": 23,
   "metadata": {
    "colab": {
     "base_uri": "https://localhost:8080/"
    },
    "executionInfo": {
     "elapsed": 25,
     "status": "ok",
     "timestamp": 1681364250284,
     "user": {
      "displayName": "Gaurav sharma",
      "userId": "03881896638130988318"
     },
     "user_tz": -330
    },
    "id": "HdQRxt0okCmg",
    "outputId": "3bb0cc1c-33ea-481f-e704-c5d762a97f1b"
   },
   "outputs": [
    {
     "data": {
      "text/plain": [
       "title                            0.000000\n",
       "author                          20.203304\n",
       "price                           13.722999\n",
       "price (including used books)    46.886912\n",
       "pages                           10.927573\n",
       "avg_reviews                     15.501906\n",
       "n_reviews                       20.330368\n",
       "star5                           15.501906\n",
       "weight                           0.000000\n",
       "language                         8.767471\n",
       "publisher                       13.595934\n",
       "ISBN_13                         18.678526\n",
       "link                             0.000000\n",
       "complete_link                    0.000000\n",
       "dtype: float64"
      ]
     },
     "execution_count": 23,
     "metadata": {},
     "output_type": "execute_result"
    }
   ],
   "source": [
    "bookdata2.isnull().sum()/bookdata2.shape[0] * 100"
   ]
  },
  {
   "cell_type": "code",
   "execution_count": 24,
   "metadata": {
    "colab": {
     "base_uri": "https://localhost:8080/"
    },
    "executionInfo": {
     "elapsed": 25,
     "status": "ok",
     "timestamp": 1681364250285,
     "user": {
      "displayName": "Gaurav sharma",
      "userId": "03881896638130988318"
     },
     "user_tz": -330
    },
    "id": "rLRMB73blElf",
    "outputId": "f230cd28-b501-4b63-a3fa-72131c3eea61"
   },
   "outputs": [
    {
     "data": {
      "text/plain": [
       "Index(['author', 'star4', 'star3', 'star2', 'star1', 'dimensions', 'weight'], dtype='object')"
      ]
     },
     "execution_count": 24,
     "metadata": {},
     "output_type": "execute_result"
    }
   ],
   "source": [
    "drop_column = null_var[null_var > 20]\n",
    "drop_column.index"
   ]
  },
  {
   "cell_type": "markdown",
   "metadata": {
    "id": "nPKdRANh5iwV"
   },
   "source": [
    "# **DROPPING ALL THE NULL VALUES**\n",
    "\n",
    "---\n",
    "\n"
   ]
  },
  {
   "cell_type": "code",
   "execution_count": 25,
   "metadata": {
    "executionInfo": {
     "elapsed": 23,
     "status": "ok",
     "timestamp": 1681364250285,
     "user": {
      "displayName": "Gaurav sharma",
      "userId": "03881896638130988318"
     },
     "user_tz": -330
    },
    "id": "zjd9G_L8wlHb"
   },
   "outputs": [],
   "source": [
    "bookdata3 = bookdata2.dropna()"
   ]
  },
  {
   "cell_type": "code",
   "execution_count": 26,
   "metadata": {
    "colab": {
     "base_uri": "https://localhost:8080/"
    },
    "executionInfo": {
     "elapsed": 23,
     "status": "ok",
     "timestamp": 1681364250285,
     "user": {
      "displayName": "Gaurav sharma",
      "userId": "03881896638130988318"
     },
     "user_tz": -330
    },
    "id": "iS2eMm9Hwqmw",
    "outputId": "628f006f-f136-4ace-cbe0-514bbcb40e09"
   },
   "outputs": [
    {
     "data": {
      "text/plain": [
       "(266, 14)"
      ]
     },
     "execution_count": 26,
     "metadata": {},
     "output_type": "execute_result"
    }
   ],
   "source": [
    "bookdata3.shape"
   ]
  },
  {
   "cell_type": "code",
   "execution_count": 27,
   "metadata": {
    "colab": {
     "base_uri": "https://localhost:8080/",
     "height": 635
    },
    "executionInfo": {
     "elapsed": 21,
     "status": "ok",
     "timestamp": 1681364250285,
     "user": {
      "displayName": "Gaurav sharma",
      "userId": "03881896638130988318"
     },
     "user_tz": -330
    },
    "id": "zvsHWTKf5o5M",
    "outputId": "8c1588d4-c852-44f2-800b-a610bf799d7d"
   },
   "outputs": [
    {
     "data": {
      "text/plain": [
       "<Axes: >"
      ]
     },
     "execution_count": 27,
     "metadata": {},
     "output_type": "execute_result"
    },
    {
     "data": {
      "image/png": "[encoded data removed]",
      "text/plain": [
       "<Figure size 640x480 with 2 Axes>"
      ]
     },
     "metadata": {},
     "output_type": "display_data"
    }
   ],
   "source": [
    "sns.heatmap(bookdata3.isnull())"
   ]
  },
  {
   "cell_type": "code",
   "execution_count": 50,
   "metadata": {
    "executionInfo": {
     "elapsed": 738,
     "status": "ok",
     "timestamp": 1681364366509,
     "user": {
      "displayName": "Gaurav sharma",
      "userId": "03881896638130988318"
     },
     "user_tz": -330
    },
    "id": "DOsn5X8Wa-xb"
   },
   "outputs": [],
   "source": [
    "import jovian"
   ]
  },
  {
   "cell_type": "code",
   "execution_count": 51,
   "metadata": {
    "colab": {
     "base_uri": "https://localhost:8080/"
    },
    "executionInfo": {
     "elapsed": 4,
     "status": "ok",
     "timestamp": 1681364366510,
     "user": {
      "displayName": "Gaurav sharma",
      "userId": "03881896638130988318"
     },
     "user_tz": -330
    },
    "id": "ruN5_L4Ka-xb",
    "outputId": "7ac8a21f-70c5-471f-b941-616aec134c53"
   },
   "outputs": [
    {
     "name": "stdout",
     "output_type": "stream",
     "text": [
      "[jovian] Detected Colab notebook...\u001b[0m\n",
      "[jovian] jovian.commit() is no longer required on Google Colab. If you ran this notebook from Jovian, \n",
      "then just save this file in Colab using Ctrl+S/Cmd+S and it will be updated on Jovian. \n",
      "Also, you can also delete this cell, it's no longer necessary.\u001b[0m\n"
     ]
    }
   ],
   "source": [
    "jovian.commit()"
   ]
  },
  {
   "cell_type": "code",
   "execution_count": 29,
   "metadata": {
    "executionInfo": {
     "elapsed": 19,
     "status": "ok",
     "timestamp": 1681364250287,
     "user": {
      "displayName": "Gaurav sharma",
      "userId": "03881896638130988318"
     },
     "user_tz": -330
    },
    "id": "THgr4K_hy2-5"
   },
   "outputs": [],
   "source": []
  },
  {
   "cell_type": "markdown",
   "metadata": {
    "id": "lKcWvnsra-xb"
   },
   "source": [
    "## Exploratory Analysis and Visualization\n",
    "\n",
    "***Main aim for this section is to understand and get the gist of the data, also preprocessing it and making it clean, checking the observable variation generated after handling missing values ***\n",
    "\n"
   ]
  },
  {
   "cell_type": "markdown",
   "metadata": {
    "id": "Igw9rdDZa-xc"
   },
   "source": [
    "Let's begin by importing`matplotlib.pyplot` and `seaborn`."
   ]
  },
  {
   "cell_type": "code",
   "execution_count": 30,
   "metadata": {
    "executionInfo": {
     "elapsed": 19,
     "status": "ok",
     "timestamp": 1681364250287,
     "user": {
      "displayName": "Gaurav sharma",
      "userId": "03881896638130988318"
     },
     "user_tz": -330
    },
    "id": "L8pRC2Yea-xc"
   },
   "outputs": [],
   "source": [
    "import seaborn as sns\n",
    "import matplotlib\n",
    "import matplotlib.pyplot as plt\n",
    "%matplotlib inline\n",
    "\n",
    "sns.set_style('darkgrid')\n",
    "matplotlib.rcParams['font.size'] = 14\n",
    "matplotlib.rcParams['figure.figsize'] = (9, 5)\n",
    "matplotlib.rcParams['figure.facecolor'] = '#00000000'"
   ]
  },
  {
   "cell_type": "markdown",
   "metadata": {
    "id": "Gbbzg1T5a-xc"
   },
   "source": [
    "**Compute the mean, sum, range and other interesting statistics for numeric columns**"
   ]
  },
  {
   "cell_type": "code",
   "execution_count": 31,
   "metadata": {
    "colab": {
     "base_uri": "https://localhost:8080/",
     "height": 300
    },
    "executionInfo": {
     "elapsed": 18,
     "status": "ok",
     "timestamp": 1681364250287,
     "user": {
      "displayName": "Gaurav sharma",
      "userId": "03881896638130988318"
     },
     "user_tz": -330
    },
    "id": "aDeo_3aKa-xc",
    "outputId": "08e0875c-cae2-46d6-e0bd-538c525b884f"
   },
   "outputs": [
    {
     "data": {
      "text/html": [
       "\n",
       "  <div id=\"df-026224c5-06ce-44f8-8f18-cf89db4b7239\">\n",
       "    <div class=\"colab-df-container\">\n",
       "      <div>\n",
       "<style scoped>\n",
       "    .dataframe tbody tr th:only-of-type {\n",
       "        vertical-align: middle;\n",
       "    }\n",
       "\n",
       "    .dataframe tbody tr th {\n",
       "        vertical-align: top;\n",
       "    }\n",
       "\n",
       "    .dataframe thead th {\n",
       "        text-align: right;\n",
       "    }\n",
       "</style>\n",
       "<table border=\"1\" class=\"dataframe\">\n",
       "  <thead>\n",
       "    <tr style=\"text-align: right;\">\n",
       "      <th></th>\n",
       "      <th>price</th>\n",
       "      <th>price (including used books)</th>\n",
       "      <th>pages</th>\n",
       "      <th>avg_reviews</th>\n",
       "      <th>n_reviews</th>\n",
       "    </tr>\n",
       "  </thead>\n",
       "  <tbody>\n",
       "    <tr>\n",
       "      <th>count</th>\n",
       "      <td>266.000000</td>\n",
       "      <td>266.000000</td>\n",
       "      <td>266.000000</td>\n",
       "      <td>266.000000</td>\n",
       "      <td>266.000000</td>\n",
       "    </tr>\n",
       "    <tr>\n",
       "      <th>mean</th>\n",
       "      <td>37.053985</td>\n",
       "      <td>37.053985</td>\n",
       "      <td>365.000000</td>\n",
       "      <td>4.475940</td>\n",
       "      <td>90.281955</td>\n",
       "    </tr>\n",
       "    <tr>\n",
       "      <th>std</th>\n",
       "      <td>22.581618</td>\n",
       "      <td>22.581618</td>\n",
       "      <td>177.471103</td>\n",
       "      <td>0.474346</td>\n",
       "      <td>143.251275</td>\n",
       "    </tr>\n",
       "    <tr>\n",
       "      <th>min</th>\n",
       "      <td>10.990000</td>\n",
       "      <td>10.990000</td>\n",
       "      <td>31.000000</td>\n",
       "      <td>1.000000</td>\n",
       "      <td>1.000000</td>\n",
       "    </tr>\n",
       "    <tr>\n",
       "      <th>25%</th>\n",
       "      <td>22.990000</td>\n",
       "      <td>22.990000</td>\n",
       "      <td>240.000000</td>\n",
       "      <td>4.300000</td>\n",
       "      <td>10.000000</td>\n",
       "    </tr>\n",
       "    <tr>\n",
       "      <th>50%</th>\n",
       "      <td>36.990000</td>\n",
       "      <td>36.990000</td>\n",
       "      <td>352.000000</td>\n",
       "      <td>4.550000</td>\n",
       "      <td>33.000000</td>\n",
       "    </tr>\n",
       "    <tr>\n",
       "      <th>75%</th>\n",
       "      <td>45.365000</td>\n",
       "      <td>45.365000</td>\n",
       "      <td>455.500000</td>\n",
       "      <td>4.700000</td>\n",
       "      <td>100.750000</td>\n",
       "    </tr>\n",
       "    <tr>\n",
       "      <th>max</th>\n",
       "      <td>287.140000</td>\n",
       "      <td>287.140000</td>\n",
       "      <td>1168.000000</td>\n",
       "      <td>5.000000</td>\n",
       "      <td>988.000000</td>\n",
       "    </tr>\n",
       "  </tbody>\n",
       "</table>\n",
       "</div>\n",
       "      <button class=\"colab-df-convert\" onclick=\"convertToInteractive('df-026224c5-06ce-44f8-8f18-cf89db4b7239')\"\n",
       "              title=\"Convert this dataframe to an interactive table.\"\n",
       "              style=\"display:none;\">\n",
       "        \n",
       "  <svg xmlns=\"http://www.w3.org/2000/svg\" height=\"24px\"viewBox=\"0 0 24 24\"\n",
       "       width=\"24px\">\n",
       "    <path d=\"M0 0h24v24H0V0z\" fill=\"none\"/>\n",
       "    <path d=\"M18.56 5.44l.94 2.06.94-2.06 2.06-.94-2.06-.94-.94-2.06-.94 2.06-2.06.94zm-11 1L8.5 8.5l.94-2.06 2.06-.94-2.06-.94L8.5 2.5l-.94 2.06-2.06.94zm10 10l.94 2.06.94-2.06 2.06-.94-2.06-.94-.94-2.06-.94 2.06-2.06.94z\"/><path d=\"M17.41 7.96l-1.37-1.37c-.4-.4-.92-.59-1.43-.59-.52 0-1.04.2-1.43.59L10.3 9.45l-7.72 7.72c-.78.78-.78 2.05 0 2.83L4 21.41c.39.39.9.59 1.41.59.51 0 1.02-.2 1.41-.59l7.78-7.78 2.81-2.81c.8-.78.8-2.07 0-2.86zM5.41 20L4 18.59l7.72-7.72 1.47 1.35L5.41 20z\"/>\n",
       "  </svg>\n",
       "      </button>\n",
       "      \n",
       "  <style>\n",
       "    .colab-df-container {\n",
       "      display:flex;\n",
       "      flex-wrap:wrap;\n",
       "      gap: 12px;\n",
       "    }\n",
       "\n",
       "    .colab-df-convert {\n",
       "      background-color: #E8F0FE;\n",
       "      border: none;\n",
       "      border-radius: 50%;\n",
       "      cursor: pointer;\n",
       "      display: none;\n",
       "      fill: #1967D2;\n",
       "      height: 32px;\n",
       "      padding: 0 0 0 0;\n",
       "      width: 32px;\n",
       "    }\n",
       "\n",
       "    .colab-df-convert:hover {\n",
       "      background-color: #E2EBFA;\n",
       "      box-shadow: 0px 1px 2px rgba(60, 64, 67, 0.3), 0px 1px 3px 1px rgba(60, 64, 67, 0.15);\n",
       "      fill: #174EA6;\n",
       "    }\n",
       "\n",
       "    [theme=dark] .colab-df-convert {\n",
       "      background-color: #3B4455;\n",
       "      fill: #D2E3FC;\n",
       "    }\n",
       "\n",
       "    [theme=dark] .colab-df-convert:hover {\n",
       "      background-color: #434B5C;\n",
       "      box-shadow: 0px 1px 3px 1px rgba(0, 0, 0, 0.15);\n",
       "      filter: drop-shadow(0px 1px 2px rgba(0, 0, 0, 0.3));\n",
       "      fill: #FFFFFF;\n",
       "    }\n",
       "  </style>\n",
       "\n",
       "      <script>\n",
       "        const buttonEl =\n",
       "          document.querySelector('#df-026224c5-06ce-44f8-8f18-cf89db4b7239 button.colab-df-convert');\n",
       "        buttonEl.style.display =\n",
       "          google.colab.kernel.accessAllowed ? 'block' : 'none';\n",
       "\n",
       "        async function convertToInteractive(key) {\n",
       "          const element = document.querySelector('#df-026224c5-06ce-44f8-8f18-cf89db4b7239');\n",
       "          const dataTable =\n",
       "            await google.colab.kernel.invokeFunction('convertToInteractive',\n",
       "                                                     [key], {});\n",
       "          if (!dataTable) return;\n",
       "\n",
       "          const docLinkHtml = 'Like what you see? Visit the ' +\n",
       "            '<a target=\"_blank\" href=https://colab.research.google.com/notebooks/data_table.ipynb>data table notebook</a>'\n",
       "            + ' to learn more about interactive tables.';\n",
       "          element.innerHTML = '';\n",
       "          dataTable['output_type'] = 'display_data';\n",
       "          await google.colab.output.renderOutput(dataTable, element);\n",
       "          const docLink = document.createElement('div');\n",
       "          docLink.innerHTML = docLinkHtml;\n",
       "          element.appendChild(docLink);\n",
       "        }\n",
       "      </script>\n",
       "    </div>\n",
       "  </div>\n",
       "  "
      ],
      "text/plain": [
       "            price  price (including used books)        pages  avg_reviews  \\\n",
       "count  266.000000                    266.000000   266.000000   266.000000   \n",
       "mean    37.053985                     37.053985   365.000000     4.475940   \n",
       "std     22.581618                     22.581618   177.471103     0.474346   \n",
       "min     10.990000                     10.990000    31.000000     1.000000   \n",
       "25%     22.990000                     22.990000   240.000000     4.300000   \n",
       "50%     36.990000                     36.990000   352.000000     4.550000   \n",
       "75%     45.365000                     45.365000   455.500000     4.700000   \n",
       "max    287.140000                    287.140000  1168.000000     5.000000   \n",
       "\n",
       "        n_reviews  \n",
       "count  266.000000  \n",
       "mean    90.281955  \n",
       "std    143.251275  \n",
       "min      1.000000  \n",
       "25%     10.000000  \n",
       "50%     33.000000  \n",
       "75%    100.750000  \n",
       "max    988.000000  "
      ]
     },
     "execution_count": 31,
     "metadata": {},
     "output_type": "execute_result"
    }
   ],
   "source": [
    "bookdata3.describe()"
   ]
  },
  {
   "cell_type": "code",
   "execution_count": 32,
   "metadata": {
    "colab": {
     "base_uri": "https://localhost:8080/",
     "height": 658
    },
    "executionInfo": {
     "elapsed": 18,
     "status": "ok",
     "timestamp": 1681364250287,
     "user": {
      "displayName": "Gaurav sharma",
      "userId": "03881896638130988318"
     },
     "user_tz": -330
    },
    "id": "0HBd_5qFa-xc",
    "outputId": "c9a3a815-1b12-4f96-e366-f606ecf8eea0"
   },
   "outputs": [
    {
     "name": "stderr",
     "output_type": "stream",
     "text": [
      "<ipython-input-32-fa58e84388fe>:1: UserWarning: \n",
      "\n",
      "`distplot` is a deprecated function and will be removed in seaborn v0.14.0.\n",
      "\n",
      "Please adapt your code to use either `displot` (a figure-level function with\n",
      "similar flexibility) or `histplot` (an axes-level function for histograms).\n",
      "\n",
      "For a guide to updating your code to use the new functions, please see\n",
      "https://gist.github.com/mwaskom/de44147ed2974457ad6372750bbe5751\n",
      "\n",
      "  sns.distplot(bookdata2.describe())\n"
     ]
    },
    {
     "data": {
      "text/plain": [
       "<Axes: ylabel='Density'>"
      ]
     },
     "execution_count": 32,
     "metadata": {},
     "output_type": "execute_result"
    },
    {
     "data": {
      "image/png": "[encoded data removed]",
      "text/plain": [
       "<Figure size 900x500 with 1 Axes>"
      ]
     },
     "metadata": {
      "needs_background": "light"
     },
     "output_type": "display_data"
    }
   ],
   "source": [
    "sns.distplot(bookdata2.describe())"
   ]
  },
  {
   "cell_type": "code",
   "execution_count": 33,
   "metadata": {
    "colab": {
     "base_uri": "https://localhost:8080/",
     "height": 658
    },
    "executionInfo": {
     "elapsed": 1225,
     "status": "ok",
     "timestamp": 1681364251498,
     "user": {
      "displayName": "Gaurav sharma",
      "userId": "03881896638130988318"
     },
     "user_tz": -330
    },
    "id": "VnZ81Y0qa-xd",
    "outputId": "c9ef225a-e3d7-453c-d7cb-352b36ce3e95"
   },
   "outputs": [
    {
     "name": "stderr",
     "output_type": "stream",
     "text": [
      "<ipython-input-33-a3a9d3382933>:1: UserWarning: \n",
      "\n",
      "`distplot` is a deprecated function and will be removed in seaborn v0.14.0.\n",
      "\n",
      "Please adapt your code to use either `displot` (a figure-level function with\n",
      "similar flexibility) or `histplot` (an axes-level function for histograms).\n",
      "\n",
      "For a guide to updating your code to use the new functions, please see\n",
      "https://gist.github.com/mwaskom/de44147ed2974457ad6372750bbe5751\n",
      "\n",
      "  sns.distplot(bookdata3.describe())\n"
     ]
    },
    {
     "data": {
      "text/plain": [
       "<Axes: ylabel='Density'>"
      ]
     },
     "execution_count": 33,
     "metadata": {},
     "output_type": "execute_result"
    },
    {
     "data": {
      "image/png": "[encoded data removed]",
      "text/plain": [
       "<Figure size 900x500 with 1 Axes>"
      ]
     },
     "metadata": {
      "needs_background": "light"
     },
     "output_type": "display_data"
    }
   ],
   "source": [
    "sns.distplot(bookdata3.describe())"
   ]
  },
  {
   "cell_type": "markdown",
   "metadata": {
    "id": "LJ2eiRVe9sGI"
   },
   "source": [
    "***As we can see that although the proportions have changed the curves of the graph remains to be same, hence the data is distributed in an efficient manner, and not abruptly.***"
   ]
  },
  {
   "cell_type": "markdown",
   "metadata": {
    "id": "f4jhCIvKa-xd"
   },
   "source": [
    "***Explore distributions of numeric columns using histograms etc.***"
   ]
  },
  {
   "cell_type": "code",
   "execution_count": 34,
   "metadata": {
    "colab": {
     "base_uri": "https://localhost:8080/",
     "height": 475
    },
    "executionInfo": {
     "elapsed": 13,
     "status": "ok",
     "timestamp": 1681364251500,
     "user": {
      "displayName": "Gaurav sharma",
      "userId": "03881896638130988318"
     },
     "user_tz": -330
    },
    "id": "wrNiPpwYa-xd",
    "outputId": "cd05ea3a-eb4b-4348-8956-7fe98ec74c0f"
   },
   "outputs": [
    {
     "data": {
      "image/png": "[encoded data removed]",
      "text/plain": [
       "<Figure size 900x500 with 1 Axes>"
      ]
     },
     "metadata": {
      "needs_background": "light"
     },
     "output_type": "display_data"
    }
   ],
   "source": [
    "sns.histplot(bookdata3.price, color = 'skyblue');"
   ]
  },
  {
   "cell_type": "code",
   "execution_count": 35,
   "metadata": {
    "colab": {
     "base_uri": "https://localhost:8080/",
     "height": 475
    },
    "executionInfo": {
     "elapsed": 11,
     "status": "ok",
     "timestamp": 1681364251500,
     "user": {
      "displayName": "Gaurav sharma",
      "userId": "03881896638130988318"
     },
     "user_tz": -330
    },
    "id": "rL6rV2_za-xd",
    "outputId": "976913f2-bcc4-4f21-be63-5baa4ab193c9"
   },
   "outputs": [
    {
     "data": {
      "image/png": "[encoded data removed]",
      "text/plain": [
       "<Figure size 900x500 with 1 Axes>"
      ]
     },
     "metadata": {
      "needs_background": "light"
     },
     "output_type": "display_data"
    }
   ],
   "source": [
    "sns.histplot(bookdata3['price (including used books)'], color = 'skyblue');"
   ]
  },
  {
   "cell_type": "code",
   "execution_count": 36,
   "metadata": {
    "colab": {
     "base_uri": "https://localhost:8080/",
     "height": 475
    },
    "executionInfo": {
     "elapsed": 12,
     "status": "ok",
     "timestamp": 1681364251501,
     "user": {
      "displayName": "Gaurav sharma",
      "userId": "03881896638130988318"
     },
     "user_tz": -330
    },
    "id": "egngjtnFa-xd",
    "outputId": "3fe56cba-a0fb-4f2b-fb38-6dbaba14758b"
   },
   "outputs": [
    {
     "data": {
      "image/png": "[encoded data removed]",
      "text/plain": [
       "<Figure size 900x500 with 1 Axes>"
      ]
     },
     "metadata": {
      "needs_background": "light"
     },
     "output_type": "display_data"
    }
   ],
   "source": [
    "sns.histplot(bookdata3['pages'], color = 'skyblue');"
   ]
  },
  {
   "cell_type": "code",
   "execution_count": 37,
   "metadata": {
    "colab": {
     "base_uri": "https://localhost:8080/",
     "height": 476
    },
    "executionInfo": {
     "elapsed": 1126,
     "status": "ok",
     "timestamp": 1681364252616,
     "user": {
      "displayName": "Gaurav sharma",
      "userId": "03881896638130988318"
     },
     "user_tz": -330
    },
    "id": "CMZHyRPea-xd",
    "outputId": "2daa8116-74d6-4dfc-ef21-a706bd8a3c7d"
   },
   "outputs": [
    {
     "data": {
      "image/png": "[encoded data removed]",
      "text/plain": [
       "<Figure size 900x500 with 1 Axes>"
      ]
     },
     "metadata": {
      "needs_background": "light"
     },
     "output_type": "display_data"
    }
   ],
   "source": [
    "sns.histplot(bookdata3['avg_reviews'], color = 'skyblue');"
   ]
  },
  {
   "cell_type": "code",
   "execution_count": 38,
   "metadata": {
    "colab": {
     "base_uri": "https://localhost:8080/",
     "height": 476
    },
    "executionInfo": {
     "elapsed": 15,
     "status": "ok",
     "timestamp": 1681364252617,
     "user": {
      "displayName": "Gaurav sharma",
      "userId": "03881896638130988318"
     },
     "user_tz": -330
    },
    "id": "-XprwDiea-xe",
    "outputId": "f04eaab3-e2b7-4d46-d991-bda3c7ee0e20"
   },
   "outputs": [
    {
     "data": {
      "image/png": "[encoded data removed]",
      "text/plain": [
       "<Figure size 900x500 with 1 Axes>"
      ]
     },
     "metadata": {
      "needs_background": "light"
     },
     "output_type": "display_data"
    }
   ],
   "source": [
    "sns.histplot(bookdata3['n_reviews'], color = 'skyblue');"
   ]
  },
  {
   "cell_type": "markdown",
   "metadata": {
    "id": "_uwhxUoya-xd"
   },
   "source": [
    "***Explore relationship between columns using scatter plots, bar charts etc.***"
   ]
  },
  {
   "cell_type": "code",
   "execution_count": 39,
   "metadata": {
    "colab": {
     "base_uri": "https://localhost:8080/",
     "height": 489
    },
    "executionInfo": {
     "elapsed": 761,
     "status": "ok",
     "timestamp": 1681364253368,
     "user": {
      "displayName": "Gaurav sharma",
      "userId": "03881896638130988318"
     },
     "user_tz": -330
    },
    "id": "vZoBanPea-xf",
    "outputId": "a306e6cf-c310-4ae4-ceba-3e4e85611923"
   },
   "outputs": [
    {
     "data": {
      "image/png": "[encoded data removed]",
      "text/plain": [
       "<Figure size 900x500 with 1 Axes>"
      ]
     },
     "metadata": {
      "needs_background": "light"
     },
     "output_type": "display_data"
    }
   ],
   "source": [
    "sns.barplot(y = bookdata3.describe()['price'], x = bookdata3.describe()['price'].index)\n",
    "plt.xticks(rotation = 45);"
   ]
  },
  {
   "cell_type": "markdown",
   "metadata": {
    "id": "rcR1rTkSa-xd"
   },
   "source": [
    "**TODO** - Explore one or more columns by plotting a graph below, and add some explanation about it"
   ]
  },
  {
   "cell_type": "markdown",
   "metadata": {
    "id": "t0LOjc7Oa-xe"
   },
   "source": [
    "Let us save and upload our work to Jovian before continuing"
   ]
  },
  {
   "cell_type": "code",
   "execution_count": 40,
   "metadata": {
    "executionInfo": {
     "elapsed": 24,
     "status": "ok",
     "timestamp": 1681364253369,
     "user": {
      "displayName": "Gaurav sharma",
      "userId": "03881896638130988318"
     },
     "user_tz": -330
    },
    "id": "FFgOiecSa-xe"
   },
   "outputs": [],
   "source": [
    "import jovian"
   ]
  },
  {
   "cell_type": "code",
   "execution_count": 41,
   "metadata": {
    "colab": {
     "base_uri": "https://localhost:8080/"
    },
    "executionInfo": {
     "elapsed": 24,
     "status": "ok",
     "timestamp": 1681364253369,
     "user": {
      "displayName": "Gaurav sharma",
      "userId": "03881896638130988318"
     },
     "user_tz": -330
    },
    "id": "A43RCgGha-xe",
    "outputId": "ae201205-1f1b-4d16-cbb5-450a98f0a667"
   },
   "outputs": [
    {
     "name": "stdout",
     "output_type": "stream",
     "text": [
      "[jovian] Detected Colab notebook...\u001b[0m\n",
      "[jovian] jovian.commit() is no longer required on Google Colab. If you ran this notebook from Jovian, \n",
      "then just save this file in Colab using Ctrl+S/Cmd+S and it will be updated on Jovian. \n",
      "Also, you can also delete this cell, it's no longer necessary.\u001b[0m\n"
     ]
    }
   ],
   "source": [
    "jovian.commit()"
   ]
  },
  {
   "cell_type": "code",
   "execution_count": 42,
   "metadata": {
    "colab": {
     "base_uri": "https://localhost:8080/",
     "height": 1000
    },
    "executionInfo": {
     "elapsed": 22,
     "status": "ok",
     "timestamp": 1681364253370,
     "user": {
      "displayName": "Gaurav sharma",
      "userId": "03881896638130988318"
     },
     "user_tz": -330
    },
    "id": "A85nv0690BW3",
    "outputId": "c021d907-e547-43ca-e7f8-bf1cc0363b1c"
   },
   "outputs": [
    {
     "data": {
      "text/html": [
       "\n",
       "  <div id=\"df-ba23588e-1e5c-4289-ba2b-898da168a1c6\">\n",
       "    <div class=\"colab-df-container\">\n",
       "      <div>\n",
       "<style scoped>\n",
       "    .dataframe tbody tr th:only-of-type {\n",
       "        vertical-align: middle;\n",
       "    }\n",
       "\n",
       "    .dataframe tbody tr th {\n",
       "        vertical-align: top;\n",
       "    }\n",
       "\n",
       "    .dataframe thead th {\n",
       "        text-align: right;\n",
       "    }\n",
       "</style>\n",
       "<table border=\"1\" class=\"dataframe\">\n",
       "  <thead>\n",
       "    <tr style=\"text-align: right;\">\n",
       "      <th></th>\n",
       "      <th>title</th>\n",
       "      <th>author</th>\n",
       "      <th>price</th>\n",
       "      <th>price (including used books)</th>\n",
       "      <th>pages</th>\n",
       "      <th>avg_reviews</th>\n",
       "      <th>n_reviews</th>\n",
       "      <th>star5</th>\n",
       "      <th>weight</th>\n",
       "      <th>language</th>\n",
       "      <th>publisher</th>\n",
       "      <th>ISBN_13</th>\n",
       "      <th>link</th>\n",
       "      <th>complete_link</th>\n",
       "    </tr>\n",
       "  </thead>\n",
       "  <tbody>\n",
       "    <tr>\n",
       "      <th>2</th>\n",
       "      <td>Guerrilla Data Analysis Using Microsoft Excel:...</td>\n",
       "      <td>[ Oz du Soleil,  and , Bill Jelen]</td>\n",
       "      <td>32.07</td>\n",
       "      <td>32.07</td>\n",
       "      <td>274.0</td>\n",
       "      <td>4.7</td>\n",
       "      <td>10.0</td>\n",
       "      <td>87%</td>\n",
       "      <td>10.0</td>\n",
       "      <td>English</td>\n",
       "      <td>Holy Macro! Books; Third edition (August 1, 2022)</td>\n",
       "      <td>978-1615470747</td>\n",
       "      <td>/Guerrilla-Analysis-Using-Microsoft-Excel/dp/1...</td>\n",
       "      <td>https://www.amazon.com/Guerrilla-Analysis-Usin...</td>\n",
       "    </tr>\n",
       "    <tr>\n",
       "      <th>4</th>\n",
       "      <td>Excel Data Analysis For Dummies (For Dummies (...</td>\n",
       "      <td>[ Paul McFedries]</td>\n",
       "      <td>24.49</td>\n",
       "      <td>24.49</td>\n",
       "      <td>368.0</td>\n",
       "      <td>3.9</td>\n",
       "      <td>12.0</td>\n",
       "      <td>52%</td>\n",
       "      <td>12.0</td>\n",
       "      <td>English</td>\n",
       "      <td>For Dummies; 5th edition (February 3, 2022)</td>\n",
       "      <td>978-1119844426</td>\n",
       "      <td>/Excel-Data-Analysis-Dummies-Computer/dp/11198...</td>\n",
       "      <td>https://www.amazon.com/Excel-Data-Analysis-Dum...</td>\n",
       "    </tr>\n",
       "    <tr>\n",
       "      <th>6</th>\n",
       "      <td>SQL for Data Analysis: Advanced Techniques for...</td>\n",
       "      <td>[ Cathy Tanimura]</td>\n",
       "      <td>40.49</td>\n",
       "      <td>40.49</td>\n",
       "      <td>360.0</td>\n",
       "      <td>4.6</td>\n",
       "      <td>72.0</td>\n",
       "      <td>75%</td>\n",
       "      <td>72.0</td>\n",
       "      <td>English</td>\n",
       "      <td>O'Reilly Media; 1st edition (October 5, 2021)</td>\n",
       "      <td>978-1492088783</td>\n",
       "      <td>/SQL-Data-Analysis-Techniques-Transforming/dp/...</td>\n",
       "      <td>https://www.amazon.com/SQL-Data-Analysis-Techn...</td>\n",
       "    </tr>\n",
       "    <tr>\n",
       "      <th>7</th>\n",
       "      <td>Qualitative Data Analysis: A Methods Sourcebook</td>\n",
       "      <td>[ Matthew B. Miles, A. Michael Huberman, et al.]</td>\n",
       "      <td>90.00</td>\n",
       "      <td>90.00</td>\n",
       "      <td>408.0</td>\n",
       "      <td>4.7</td>\n",
       "      <td>205.0</td>\n",
       "      <td>84%</td>\n",
       "      <td>205.0</td>\n",
       "      <td>English</td>\n",
       "      <td>SAGE Publications, Inc; 4th edition (January 2...</td>\n",
       "      <td>Research in Drama Education</td>\n",
       "      <td>/Qualitative-Data-Analysis-Methods-Sourcebook/...</td>\n",
       "      <td>https://www.amazon.com/Qualitative-Data-Analys...</td>\n",
       "    </tr>\n",
       "    <tr>\n",
       "      <th>11</th>\n",
       "      <td>SQL for Data Analytics: Perform efficient and ...</td>\n",
       "      <td>[ Chad Knowles]</td>\n",
       "      <td>15.97</td>\n",
       "      <td>15.97</td>\n",
       "      <td>106.0</td>\n",
       "      <td>4.9</td>\n",
       "      <td>201.0</td>\n",
       "      <td>91%</td>\n",
       "      <td>201.0</td>\n",
       "      <td>English</td>\n",
       "      <td>Independently published (September 21, 2022)</td>\n",
       "      <td>979-8354008353</td>\n",
       "      <td>/gp/slredirect/picassoRedirect.html/ref=pa_sp_...</td>\n",
       "      <td>https://www.amazon.com/gp/slredirect/picassoRe...</td>\n",
       "    </tr>\n",
       "    <tr>\n",
       "      <th>...</th>\n",
       "      <td>...</td>\n",
       "      <td>...</td>\n",
       "      <td>...</td>\n",
       "      <td>...</td>\n",
       "      <td>...</td>\n",
       "      <td>...</td>\n",
       "      <td>...</td>\n",
       "      <td>...</td>\n",
       "      <td>...</td>\n",
       "      <td>...</td>\n",
       "      <td>...</td>\n",
       "      <td>...</td>\n",
       "      <td>...</td>\n",
       "      <td>...</td>\n",
       "    </tr>\n",
       "    <tr>\n",
       "      <th>802</th>\n",
       "      <td>The Digital Mindset: What It Really Takes to T...</td>\n",
       "      <td>[ Paul Leonardi,  and , Tsedal Neeley]</td>\n",
       "      <td>19.69</td>\n",
       "      <td>19.69</td>\n",
       "      <td>272.0</td>\n",
       "      <td>4.4</td>\n",
       "      <td>73.0</td>\n",
       "      <td>68%</td>\n",
       "      <td>73.0</td>\n",
       "      <td>English</td>\n",
       "      <td>Harvard Business Review Press (May 10, 2022)</td>\n",
       "      <td>978-1647820107</td>\n",
       "      <td>/Digital-Mindset-Really-Thrive-Algorithms/dp/1...</td>\n",
       "      <td>https://www.amazon.com/Digital-Mindset-Really-...</td>\n",
       "    </tr>\n",
       "    <tr>\n",
       "      <th>810</th>\n",
       "      <td>Tableau Prep Cookbook: Use Tableau Prep to cle...</td>\n",
       "      <td>[ Hendrik Kleine]</td>\n",
       "      <td>41.99</td>\n",
       "      <td>41.99</td>\n",
       "      <td>288.0</td>\n",
       "      <td>4.1</td>\n",
       "      <td>17.0</td>\n",
       "      <td>63%</td>\n",
       "      <td>17.0</td>\n",
       "      <td>English</td>\n",
       "      <td>Packt Publishing (March 19, 2021)</td>\n",
       "      <td>978-1800563766</td>\n",
       "      <td>/gp/slredirect/picassoRedirect.html/ref=pa_sp_...</td>\n",
       "      <td>https://www.amazon.com/gp/slredirect/picassoRe...</td>\n",
       "    </tr>\n",
       "    <tr>\n",
       "      <th>819</th>\n",
       "      <td>Decolonizing Data: Unsettling Conversations ab...</td>\n",
       "      <td>[ Jacqueline M. Quinless]</td>\n",
       "      <td>24.95</td>\n",
       "      <td>24.95</td>\n",
       "      <td>172.0</td>\n",
       "      <td>4.6</td>\n",
       "      <td>9.0</td>\n",
       "      <td>75%</td>\n",
       "      <td>9.0</td>\n",
       "      <td>English</td>\n",
       "      <td>University of Toronto Press (February 15, 2022)</td>\n",
       "      <td>25</td>\n",
       "      <td>/Decolonizing-Data-Unsettling-Conversations-Re...</td>\n",
       "      <td>https://www.amazon.com/Decolonizing-Data-Unset...</td>\n",
       "    </tr>\n",
       "    <tr>\n",
       "      <th>821</th>\n",
       "      <td>Machine Learning with PyTorch and Scikit-Learn...</td>\n",
       "      <td>[ Sebastian Raschka, Yuxi (Hayden) Liu, et al.]</td>\n",
       "      <td>39.02</td>\n",
       "      <td>39.02</td>\n",
       "      <td>774.0</td>\n",
       "      <td>4.6</td>\n",
       "      <td>164.0</td>\n",
       "      <td>80%</td>\n",
       "      <td>164.0</td>\n",
       "      <td>English</td>\n",
       "      <td>Packt Publishing (February 25, 2022)</td>\n",
       "      <td>978-1801819312</td>\n",
       "      <td>/gp/slredirect/picassoRedirect.html/ref=pa_sp_...</td>\n",
       "      <td>https://www.amazon.com/gp/slredirect/picassoRe...</td>\n",
       "    </tr>\n",
       "    <tr>\n",
       "      <th>827</th>\n",
       "      <td>Practical Deep Learning at Scale with MLflow: ...</td>\n",
       "      <td>[ Yong Liu,  and , Dr. Matei Zaharia]</td>\n",
       "      <td>44.99</td>\n",
       "      <td>44.99</td>\n",
       "      <td>288.0</td>\n",
       "      <td>4.8</td>\n",
       "      <td>8.0</td>\n",
       "      <td>83%</td>\n",
       "      <td>8.0</td>\n",
       "      <td>English</td>\n",
       "      <td>Packt Publishing (July 8, 2022)</td>\n",
       "      <td>978-1803241333</td>\n",
       "      <td>/gp/slredirect/picassoRedirect.html/ref=pa_sp_...</td>\n",
       "      <td>https://www.amazon.com/gp/slredirect/picassoRe...</td>\n",
       "    </tr>\n",
       "  </tbody>\n",
       "</table>\n",
       "<p>266 rows × 14 columns</p>\n",
       "</div>\n",
       "      <button class=\"colab-df-convert\" onclick=\"convertToInteractive('df-ba23588e-1e5c-4289-ba2b-898da168a1c6')\"\n",
       "              title=\"Convert this dataframe to an interactive table.\"\n",
       "              style=\"display:none;\">\n",
       "        \n",
       "  <svg xmlns=\"http://www.w3.org/2000/svg\" height=\"24px\"viewBox=\"0 0 24 24\"\n",
       "       width=\"24px\">\n",
       "    <path d=\"M0 0h24v24H0V0z\" fill=\"none\"/>\n",
       "    <path d=\"M18.56 5.44l.94 2.06.94-2.06 2.06-.94-2.06-.94-.94-2.06-.94 2.06-2.06.94zm-11 1L8.5 8.5l.94-2.06 2.06-.94-2.06-.94L8.5 2.5l-.94 2.06-2.06.94zm10 10l.94 2.06.94-2.06 2.06-.94-2.06-.94-.94-2.06-.94 2.06-2.06.94z\"/><path d=\"M17.41 7.96l-1.37-1.37c-.4-.4-.92-.59-1.43-.59-.52 0-1.04.2-1.43.59L10.3 9.45l-7.72 7.72c-.78.78-.78 2.05 0 2.83L4 21.41c.39.39.9.59 1.41.59.51 0 1.02-.2 1.41-.59l7.78-7.78 2.81-2.81c.8-.78.8-2.07 0-2.86zM5.41 20L4 18.59l7.72-7.72 1.47 1.35L5.41 20z\"/>\n",
       "  </svg>\n",
       "      </button>\n",
       "      \n",
       "  <style>\n",
       "    .colab-df-container {\n",
       "      display:flex;\n",
       "      flex-wrap:wrap;\n",
       "      gap: 12px;\n",
       "    }\n",
       "\n",
       "    .colab-df-convert {\n",
       "      background-color: #E8F0FE;\n",
       "      border: none;\n",
       "      border-radius: 50%;\n",
       "      cursor: pointer;\n",
       "      display: none;\n",
       "      fill: #1967D2;\n",
       "      height: 32px;\n",
       "      padding: 0 0 0 0;\n",
       "      width: 32px;\n",
       "    }\n",
       "\n",
       "    .colab-df-convert:hover {\n",
       "      background-color: #E2EBFA;\n",
       "      box-shadow: 0px 1px 2px rgba(60, 64, 67, 0.3), 0px 1px 3px 1px rgba(60, 64, 67, 0.15);\n",
       "      fill: #174EA6;\n",
       "    }\n",
       "\n",
       "    [theme=dark] .colab-df-convert {\n",
       "      background-color: #3B4455;\n",
       "      fill: #D2E3FC;\n",
       "    }\n",
       "\n",
       "    [theme=dark] .colab-df-convert:hover {\n",
       "      background-color: #434B5C;\n",
       "      box-shadow: 0px 1px 3px 1px rgba(0, 0, 0, 0.15);\n",
       "      filter: drop-shadow(0px 1px 2px rgba(0, 0, 0, 0.3));\n",
       "      fill: #FFFFFF;\n",
       "    }\n",
       "  </style>\n",
       "\n",
       "      <script>\n",
       "        const buttonEl =\n",
       "          document.querySelector('#df-ba23588e-1e5c-4289-ba2b-898da168a1c6 button.colab-df-convert');\n",
       "        buttonEl.style.display =\n",
       "          google.colab.kernel.accessAllowed ? 'block' : 'none';\n",
       "\n",
       "        async function convertToInteractive(key) {\n",
       "          const element = document.querySelector('#df-ba23588e-1e5c-4289-ba2b-898da168a1c6');\n",
       "          const dataTable =\n",
       "            await google.colab.kernel.invokeFunction('convertToInteractive',\n",
       "                                                     [key], {});\n",
       "          if (!dataTable) return;\n",
       "\n",
       "          const docLinkHtml = 'Like what you see? Visit the ' +\n",
       "            '<a target=\"_blank\" href=https://colab.research.google.com/notebooks/data_table.ipynb>data table notebook</a>'\n",
       "            + ' to learn more about interactive tables.';\n",
       "          element.innerHTML = '';\n",
       "          dataTable['output_type'] = 'display_data';\n",
       "          await google.colab.output.renderOutput(dataTable, element);\n",
       "          const docLink = document.createElement('div');\n",
       "          docLink.innerHTML = docLinkHtml;\n",
       "          element.appendChild(docLink);\n",
       "        }\n",
       "      </script>\n",
       "    </div>\n",
       "  </div>\n",
       "  "
      ],
      "text/plain": [
       "                                                 title  \\\n",
       "2    Guerrilla Data Analysis Using Microsoft Excel:...   \n",
       "4    Excel Data Analysis For Dummies (For Dummies (...   \n",
       "6    SQL for Data Analysis: Advanced Techniques for...   \n",
       "7      Qualitative Data Analysis: A Methods Sourcebook   \n",
       "11   SQL for Data Analytics: Perform efficient and ...   \n",
       "..                                                 ...   \n",
       "802  The Digital Mindset: What It Really Takes to T...   \n",
       "810  Tableau Prep Cookbook: Use Tableau Prep to cle...   \n",
       "819  Decolonizing Data: Unsettling Conversations ab...   \n",
       "821  Machine Learning with PyTorch and Scikit-Learn...   \n",
       "827  Practical Deep Learning at Scale with MLflow: ...   \n",
       "\n",
       "                                               author  price  \\\n",
       "2                  [ Oz du Soleil,  and , Bill Jelen]  32.07   \n",
       "4                                   [ Paul McFedries]  24.49   \n",
       "6                                   [ Cathy Tanimura]  40.49   \n",
       "7    [ Matthew B. Miles, A. Michael Huberman, et al.]  90.00   \n",
       "11                                    [ Chad Knowles]  15.97   \n",
       "..                                                ...    ...   \n",
       "802            [ Paul Leonardi,  and , Tsedal Neeley]  19.69   \n",
       "810                                 [ Hendrik Kleine]  41.99   \n",
       "819                         [ Jacqueline M. Quinless]  24.95   \n",
       "821   [ Sebastian Raschka, Yuxi (Hayden) Liu, et al.]  39.02   \n",
       "827             [ Yong Liu,  and , Dr. Matei Zaharia]  44.99   \n",
       "\n",
       "     price (including used books)  pages  avg_reviews  n_reviews star5 weight  \\\n",
       "2                           32.07  274.0          4.7       10.0   87%   10.0   \n",
       "4                           24.49  368.0          3.9       12.0   52%   12.0   \n",
       "6                           40.49  360.0          4.6       72.0   75%   72.0   \n",
       "7                           90.00  408.0          4.7      205.0   84%  205.0   \n",
       "11                          15.97  106.0          4.9      201.0   91%  201.0   \n",
       "..                            ...    ...          ...        ...   ...    ...   \n",
       "802                         19.69  272.0          4.4       73.0   68%   73.0   \n",
       "810                         41.99  288.0          4.1       17.0   63%   17.0   \n",
       "819                         24.95  172.0          4.6        9.0   75%    9.0   \n",
       "821                         39.02  774.0          4.6      164.0   80%  164.0   \n",
       "827                         44.99  288.0          4.8        8.0   83%    8.0   \n",
       "\n",
       "    language                                          publisher  \\\n",
       "2    English  Holy Macro! Books; Third edition (August 1, 2022)   \n",
       "4    English        For Dummies; 5th edition (February 3, 2022)   \n",
       "6    English      O'Reilly Media; 1st edition (October 5, 2021)   \n",
       "7    English  SAGE Publications, Inc; 4th edition (January 2...   \n",
       "11   English       Independently published (September 21, 2022)   \n",
       "..       ...                                                ...   \n",
       "802  English       Harvard Business Review Press (May 10, 2022)   \n",
       "810  English                  Packt Publishing (March 19, 2021)   \n",
       "819  English    University of Toronto Press (February 15, 2022)   \n",
       "821  English               Packt Publishing (February 25, 2022)   \n",
       "827  English                    Packt Publishing (July 8, 2022)   \n",
       "\n",
       "                         ISBN_13  \\\n",
       "2                 978-1615470747   \n",
       "4                 978-1119844426   \n",
       "6                 978-1492088783   \n",
       "7    Research in Drama Education   \n",
       "11                979-8354008353   \n",
       "..                           ...   \n",
       "802               978-1647820107   \n",
       "810               978-1800563766   \n",
       "819                           25   \n",
       "821               978-1801819312   \n",
       "827               978-1803241333   \n",
       "\n",
       "                                                  link  \\\n",
       "2    /Guerrilla-Analysis-Using-Microsoft-Excel/dp/1...   \n",
       "4    /Excel-Data-Analysis-Dummies-Computer/dp/11198...   \n",
       "6    /SQL-Data-Analysis-Techniques-Transforming/dp/...   \n",
       "7    /Qualitative-Data-Analysis-Methods-Sourcebook/...   \n",
       "11   /gp/slredirect/picassoRedirect.html/ref=pa_sp_...   \n",
       "..                                                 ...   \n",
       "802  /Digital-Mindset-Really-Thrive-Algorithms/dp/1...   \n",
       "810  /gp/slredirect/picassoRedirect.html/ref=pa_sp_...   \n",
       "819  /Decolonizing-Data-Unsettling-Conversations-Re...   \n",
       "821  /gp/slredirect/picassoRedirect.html/ref=pa_sp_...   \n",
       "827  /gp/slredirect/picassoRedirect.html/ref=pa_sp_...   \n",
       "\n",
       "                                         complete_link  \n",
       "2    https://www.amazon.com/Guerrilla-Analysis-Usin...  \n",
       "4    https://www.amazon.com/Excel-Data-Analysis-Dum...  \n",
       "6    https://www.amazon.com/SQL-Data-Analysis-Techn...  \n",
       "7    https://www.amazon.com/Qualitative-Data-Analys...  \n",
       "11   https://www.amazon.com/gp/slredirect/picassoRe...  \n",
       "..                                                 ...  \n",
       "802  https://www.amazon.com/Digital-Mindset-Really-...  \n",
       "810  https://www.amazon.com/gp/slredirect/picassoRe...  \n",
       "819  https://www.amazon.com/Decolonizing-Data-Unset...  \n",
       "821  https://www.amazon.com/gp/slredirect/picassoRe...  \n",
       "827  https://www.amazon.com/gp/slredirect/picassoRe...  \n",
       "\n",
       "[266 rows x 14 columns]"
      ]
     },
     "execution_count": 42,
     "metadata": {},
     "output_type": "execute_result"
    }
   ],
   "source": [
    "bookdata3"
   ]
  },
  {
   "cell_type": "markdown",
   "metadata": {
    "id": "rJTPEWvla-xe"
   },
   "source": [
    "## Asking and Answering Questions\n",
    "\n",
    "Answering some aggregation and logical questions about the dataset\n",
    "\n"
   ]
  },
  {
   "cell_type": "markdown",
   "metadata": {
    "id": "jCW8zitea-xe"
   },
   "source": [
    "#### Q1: Calculate the Rate of the shipment of a book within 200km radius, according to the DTDC transportation charges"
   ]
  },
  {
   "cell_type": "markdown",
   "metadata": {
    "id": "mZz_yahKR92L"
   },
   "source": [
    "**The Data we are provided with contains the weight as an object, which looks somewhat like \"32 ounce\" like this, to convert this into numerical data(float) we are making this function to transform it.**"
   ]
  },
  {
   "cell_type": "code",
   "execution_count": 43,
   "metadata": {
    "colab": {
     "base_uri": "https://localhost:8080/"
    },
    "executionInfo": {
     "elapsed": 22,
     "status": "ok",
     "timestamp": 1681364253371,
     "user": {
      "displayName": "Gaurav sharma",
      "userId": "03881896638130988318"
     },
     "user_tz": -330
    },
    "id": "Mk7dcDkCa-xf",
    "outputId": "5b19ec3e-72b1-4967-fc24-702f3c242e37"
   },
   "outputs": [
    {
     "name": "stderr",
     "output_type": "stream",
     "text": [
      "<ipython-input-43-dac2da1b20de>:2: FutureWarning: iteritems is deprecated and will be removed in a future version. Use .items instead.\n",
      "  for index, value in weight_series[weight_series.notnull()].iteritems():\n"
     ]
    }
   ],
   "source": [
    "weight_series = bookdata3['weight']\n",
    "for index, value in weight_series[weight_series.notnull()].iteritems():\n",
    "  if \"ounces\" in weight_series[index]:\n",
    "    value = weight_series[index].replace('ounces', \"\").strip()\n",
    "    value = float(value)\n",
    "    weight_series[index] = value\n",
    "  elif \"pounds\" in weight_series[index]:\n",
    "    value = weight_series[index].replace('pounds', \"\").strip()\n",
    "    value = float(value)\n",
    "    value = value *16\n",
    "    weight_series[index] = value"
   ]
  },
  {
   "cell_type": "markdown",
   "metadata": {
    "id": "dyoDY8CvSjHv"
   },
   "source": [
    "**Assigning all the values of the float series that we made into the original column of the dataframe**"
   ]
  },
  {
   "cell_type": "code",
   "execution_count": 44,
   "metadata": {
    "colab": {
     "base_uri": "https://localhost:8080/"
    },
    "executionInfo": {
     "elapsed": 19,
     "status": "ok",
     "timestamp": 1681364253371,
     "user": {
      "displayName": "Gaurav sharma",
      "userId": "03881896638130988318"
     },
     "user_tz": -330
    },
    "id": "xgnGanvsa-xf",
    "outputId": "41700118-6aed-40bd-9f50-f226586a115b"
   },
   "outputs": [
    {
     "name": "stderr",
     "output_type": "stream",
     "text": [
      "<ipython-input-44-7cc37ac86631>:1: SettingWithCopyWarning: \n",
      "A value is trying to be set on a copy of a slice from a DataFrame.\n",
      "Try using .loc[row_indexer,col_indexer] = value instead\n",
      "\n",
      "See the caveats in the documentation: https://pandas.pydata.org/pandas-docs/stable/user_guide/indexing.html#returning-a-view-versus-a-copy\n",
      "  bookdata3['weight'] = weight_series\n"
     ]
    }
   ],
   "source": [
    "bookdata3['weight'] = weight_series"
   ]
  },
  {
   "cell_type": "markdown",
   "metadata": {
    "id": "97ujIbQrSuzI"
   },
   "source": [
    "**Final Conversion into the Float64**"
   ]
  },
  {
   "cell_type": "code",
   "execution_count": 45,
   "metadata": {
    "colab": {
     "base_uri": "https://localhost:8080/"
    },
    "executionInfo": {
     "elapsed": 18,
     "status": "ok",
     "timestamp": 1681364253372,
     "user": {
      "displayName": "Gaurav sharma",
      "userId": "03881896638130988318"
     },
     "user_tz": -330
    },
    "id": "C2VEryzpa-xf",
    "outputId": "3efc16bf-b0d5-4e5b-97df-9611ecf09a15"
   },
   "outputs": [
    {
     "name": "stderr",
     "output_type": "stream",
     "text": [
      "<ipython-input-45-0daf322801d9>:1: SettingWithCopyWarning: \n",
      "A value is trying to be set on a copy of a slice from a DataFrame.\n",
      "Try using .loc[row_indexer,col_indexer] = value instead\n",
      "\n",
      "See the caveats in the documentation: https://pandas.pydata.org/pandas-docs/stable/user_guide/indexing.html#returning-a-view-versus-a-copy\n",
      "  bookdata3['weight'] = pd.to_numeric(bookdata3['weight'], errors = 'ignore')\n"
     ]
    }
   ],
   "source": [
    "bookdata3['weight'] = pd.to_numeric(bookdata3['weight'], errors = 'ignore')"
   ]
  },
  {
   "cell_type": "markdown",
   "metadata": {
    "id": "D68cX6x8Sz9S"
   },
   "source": [
    "**Assigning the rate chart as a new column to the dataframe which shows the prices of the shipment categorically.**"
   ]
  },
  {
   "cell_type": "code",
   "execution_count": 46,
   "metadata": {
    "colab": {
     "base_uri": "https://localhost:8080/"
    },
    "executionInfo": {
     "elapsed": 16,
     "status": "ok",
     "timestamp": 1681364253372,
     "user": {
      "displayName": "Gaurav sharma",
      "userId": "03881896638130988318"
     },
     "user_tz": -330
    },
    "id": "yrF1BFvha-xg",
    "outputId": "b8c3e612-2c9a-4fd8-bedd-59d6aa638f3b"
   },
   "outputs": [
    {
     "name": "stderr",
     "output_type": "stream",
     "text": [
      "<ipython-input-46-366d18ef7edd>:4: SettingWithCopyWarning: \n",
      "A value is trying to be set on a copy of a slice from a DataFrame.\n",
      "Try using .loc[row_indexer,col_indexer] = value instead\n",
      "\n",
      "See the caveats in the documentation: https://pandas.pydata.org/pandas-docs/stable/user_guide/indexing.html#returning-a-view-versus-a-copy\n",
      "  bookdata3['rate_ship (Rs)'] = ''\n",
      "<ipython-input-46-366d18ef7edd>:5: FutureWarning: iteritems is deprecated and will be removed in a future version. Use .items instead.\n",
      "  for index, value in rate_series[rate_series.notnull()].iteritems():\n",
      "<ipython-input-46-366d18ef7edd>:11: SettingWithCopyWarning: \n",
      "A value is trying to be set on a copy of a slice from a DataFrame\n",
      "\n",
      "See the caveats in the documentation: https://pandas.pydata.org/pandas-docs/stable/user_guide/indexing.html#returning-a-view-versus-a-copy\n",
      "  bookdata3['rate_ship (Rs)'][index] = 100\n",
      "<ipython-input-46-366d18ef7edd>:13: SettingWithCopyWarning: \n",
      "A value is trying to be set on a copy of a slice from a DataFrame\n",
      "\n",
      "See the caveats in the documentation: https://pandas.pydata.org/pandas-docs/stable/user_guide/indexing.html#returning-a-view-versus-a-copy\n",
      "  bookdata3['rate_ship (Rs)'][index] = 500\n",
      "<ipython-input-46-366d18ef7edd>:9: SettingWithCopyWarning: \n",
      "A value is trying to be set on a copy of a slice from a DataFrame\n",
      "\n",
      "See the caveats in the documentation: https://pandas.pydata.org/pandas-docs/stable/user_guide/indexing.html#returning-a-view-versus-a-copy\n",
      "  bookdata3['rate_ship (Rs)'][index] = 70\n",
      "<ipython-input-46-366d18ef7edd>:7: SettingWithCopyWarning: \n",
      "A value is trying to be set on a copy of a slice from a DataFrame\n",
      "\n",
      "See the caveats in the documentation: https://pandas.pydata.org/pandas-docs/stable/user_guide/indexing.html#returning-a-view-versus-a-copy\n",
      "  bookdata3['rate_ship (Rs)'][index] = 35\n"
     ]
    }
   ],
   "source": [
    "#fixing rates for the dtdc courier services in the range of 200 kms\n",
    "#they take (35 rs for less than 2 ounce), (70 for 3 to 8 ounce). (100 for 9 to 18 ounce), (500 for anything above that)\n",
    "rate_series = bookdata3['weight']\n",
    "bookdata3['rate_ship (Rs)'] = ''\n",
    "for index, value in rate_series[rate_series.notnull()].iteritems():\n",
    "    if value < 2.0:\n",
    "      bookdata3['rate_ship (Rs)'][index] = 35\n",
    "    elif value >= 2.0 and value < 8.0:\n",
    "      bookdata3['rate_ship (Rs)'][index] = 70\n",
    "    elif value >= 8.0 and value < 18.0:\n",
    "      bookdata3['rate_ship (Rs)'][index] = 100\n",
    "    else:\n",
    "      bookdata3['rate_ship (Rs)'][index] = 500\n",
    "      "
   ]
  },
  {
   "cell_type": "markdown",
   "metadata": {
    "id": "Qq4k4HiDTMTp"
   },
   "source": [
    "Displaying the OUTCOME"
   ]
  },
  {
   "cell_type": "code",
   "execution_count": 47,
   "metadata": {
    "colab": {
     "base_uri": "https://localhost:8080/",
     "height": 1000
    },
    "executionInfo": {
     "elapsed": 4,
     "status": "ok",
     "timestamp": 1681364273263,
     "user": {
      "displayName": "Gaurav sharma",
      "userId": "03881896638130988318"
     },
     "user_tz": -330
    },
    "id": "-cpiZXtla-xg",
    "outputId": "35d8fe4d-009c-4179-e252-0981899ec1e5"
   },
   "outputs": [
    {
     "data": {
      "text/html": [
       "\n",
       "  <div id=\"df-f0fc7eaf-e590-4287-937b-11a421afaf26\">\n",
       "    <div class=\"colab-df-container\">\n",
       "      <div>\n",
       "<style scoped>\n",
       "    .dataframe tbody tr th:only-of-type {\n",
       "        vertical-align: middle;\n",
       "    }\n",
       "\n",
       "    .dataframe tbody tr th {\n",
       "        vertical-align: top;\n",
       "    }\n",
       "\n",
       "    .dataframe thead th {\n",
       "        text-align: right;\n",
       "    }\n",
       "</style>\n",
       "<table border=\"1\" class=\"dataframe\">\n",
       "  <thead>\n",
       "    <tr style=\"text-align: right;\">\n",
       "      <th></th>\n",
       "      <th>title</th>\n",
       "      <th>author</th>\n",
       "      <th>price</th>\n",
       "      <th>price (including used books)</th>\n",
       "      <th>pages</th>\n",
       "      <th>avg_reviews</th>\n",
       "      <th>n_reviews</th>\n",
       "      <th>star5</th>\n",
       "      <th>weight</th>\n",
       "      <th>language</th>\n",
       "      <th>publisher</th>\n",
       "      <th>ISBN_13</th>\n",
       "      <th>link</th>\n",
       "      <th>complete_link</th>\n",
       "      <th>rate_ship (Rs)</th>\n",
       "    </tr>\n",
       "  </thead>\n",
       "  <tbody>\n",
       "    <tr>\n",
       "      <th>2</th>\n",
       "      <td>Guerrilla Data Analysis Using Microsoft Excel:...</td>\n",
       "      <td>[ Oz du Soleil,  and , Bill Jelen]</td>\n",
       "      <td>32.07</td>\n",
       "      <td>32.07</td>\n",
       "      <td>274.0</td>\n",
       "      <td>4.7</td>\n",
       "      <td>10.0</td>\n",
       "      <td>87%</td>\n",
       "      <td>10.0</td>\n",
       "      <td>English</td>\n",
       "      <td>Holy Macro! Books; Third edition (August 1, 2022)</td>\n",
       "      <td>978-1615470747</td>\n",
       "      <td>/Guerrilla-Analysis-Using-Microsoft-Excel/dp/1...</td>\n",
       "      <td>https://www.amazon.com/Guerrilla-Analysis-Usin...</td>\n",
       "      <td>100</td>\n",
       "    </tr>\n",
       "    <tr>\n",
       "      <th>4</th>\n",
       "      <td>Excel Data Analysis For Dummies (For Dummies (...</td>\n",
       "      <td>[ Paul McFedries]</td>\n",
       "      <td>24.49</td>\n",
       "      <td>24.49</td>\n",
       "      <td>368.0</td>\n",
       "      <td>3.9</td>\n",
       "      <td>12.0</td>\n",
       "      <td>52%</td>\n",
       "      <td>12.0</td>\n",
       "      <td>English</td>\n",
       "      <td>For Dummies; 5th edition (February 3, 2022)</td>\n",
       "      <td>978-1119844426</td>\n",
       "      <td>/Excel-Data-Analysis-Dummies-Computer/dp/11198...</td>\n",
       "      <td>https://www.amazon.com/Excel-Data-Analysis-Dum...</td>\n",
       "      <td>100</td>\n",
       "    </tr>\n",
       "    <tr>\n",
       "      <th>6</th>\n",
       "      <td>SQL for Data Analysis: Advanced Techniques for...</td>\n",
       "      <td>[ Cathy Tanimura]</td>\n",
       "      <td>40.49</td>\n",
       "      <td>40.49</td>\n",
       "      <td>360.0</td>\n",
       "      <td>4.6</td>\n",
       "      <td>72.0</td>\n",
       "      <td>75%</td>\n",
       "      <td>72.0</td>\n",
       "      <td>English</td>\n",
       "      <td>O'Reilly Media; 1st edition (October 5, 2021)</td>\n",
       "      <td>978-1492088783</td>\n",
       "      <td>/SQL-Data-Analysis-Techniques-Transforming/dp/...</td>\n",
       "      <td>https://www.amazon.com/SQL-Data-Analysis-Techn...</td>\n",
       "      <td>500</td>\n",
       "    </tr>\n",
       "    <tr>\n",
       "      <th>7</th>\n",
       "      <td>Qualitative Data Analysis: A Methods Sourcebook</td>\n",
       "      <td>[ Matthew B. Miles, A. Michael Huberman, et al.]</td>\n",
       "      <td>90.00</td>\n",
       "      <td>90.00</td>\n",
       "      <td>408.0</td>\n",
       "      <td>4.7</td>\n",
       "      <td>205.0</td>\n",
       "      <td>84%</td>\n",
       "      <td>205.0</td>\n",
       "      <td>English</td>\n",
       "      <td>SAGE Publications, Inc; 4th edition (January 2...</td>\n",
       "      <td>Research in Drama Education</td>\n",
       "      <td>/Qualitative-Data-Analysis-Methods-Sourcebook/...</td>\n",
       "      <td>https://www.amazon.com/Qualitative-Data-Analys...</td>\n",
       "      <td>500</td>\n",
       "    </tr>\n",
       "    <tr>\n",
       "      <th>11</th>\n",
       "      <td>SQL for Data Analytics: Perform efficient and ...</td>\n",
       "      <td>[ Chad Knowles]</td>\n",
       "      <td>15.97</td>\n",
       "      <td>15.97</td>\n",
       "      <td>106.0</td>\n",
       "      <td>4.9</td>\n",
       "      <td>201.0</td>\n",
       "      <td>91%</td>\n",
       "      <td>201.0</td>\n",
       "      <td>English</td>\n",
       "      <td>Independently published (September 21, 2022)</td>\n",
       "      <td>979-8354008353</td>\n",
       "      <td>/gp/slredirect/picassoRedirect.html/ref=pa_sp_...</td>\n",
       "      <td>https://www.amazon.com/gp/slredirect/picassoRe...</td>\n",
       "      <td>500</td>\n",
       "    </tr>\n",
       "    <tr>\n",
       "      <th>...</th>\n",
       "      <td>...</td>\n",
       "      <td>...</td>\n",
       "      <td>...</td>\n",
       "      <td>...</td>\n",
       "      <td>...</td>\n",
       "      <td>...</td>\n",
       "      <td>...</td>\n",
       "      <td>...</td>\n",
       "      <td>...</td>\n",
       "      <td>...</td>\n",
       "      <td>...</td>\n",
       "      <td>...</td>\n",
       "      <td>...</td>\n",
       "      <td>...</td>\n",
       "      <td>...</td>\n",
       "    </tr>\n",
       "    <tr>\n",
       "      <th>802</th>\n",
       "      <td>The Digital Mindset: What It Really Takes to T...</td>\n",
       "      <td>[ Paul Leonardi,  and , Tsedal Neeley]</td>\n",
       "      <td>19.69</td>\n",
       "      <td>19.69</td>\n",
       "      <td>272.0</td>\n",
       "      <td>4.4</td>\n",
       "      <td>73.0</td>\n",
       "      <td>68%</td>\n",
       "      <td>73.0</td>\n",
       "      <td>English</td>\n",
       "      <td>Harvard Business Review Press (May 10, 2022)</td>\n",
       "      <td>978-1647820107</td>\n",
       "      <td>/Digital-Mindset-Really-Thrive-Algorithms/dp/1...</td>\n",
       "      <td>https://www.amazon.com/Digital-Mindset-Really-...</td>\n",
       "      <td>500</td>\n",
       "    </tr>\n",
       "    <tr>\n",
       "      <th>810</th>\n",
       "      <td>Tableau Prep Cookbook: Use Tableau Prep to cle...</td>\n",
       "      <td>[ Hendrik Kleine]</td>\n",
       "      <td>41.99</td>\n",
       "      <td>41.99</td>\n",
       "      <td>288.0</td>\n",
       "      <td>4.1</td>\n",
       "      <td>17.0</td>\n",
       "      <td>63%</td>\n",
       "      <td>17.0</td>\n",
       "      <td>English</td>\n",
       "      <td>Packt Publishing (March 19, 2021)</td>\n",
       "      <td>978-1800563766</td>\n",
       "      <td>/gp/slredirect/picassoRedirect.html/ref=pa_sp_...</td>\n",
       "      <td>https://www.amazon.com/gp/slredirect/picassoRe...</td>\n",
       "      <td>100</td>\n",
       "    </tr>\n",
       "    <tr>\n",
       "      <th>819</th>\n",
       "      <td>Decolonizing Data: Unsettling Conversations ab...</td>\n",
       "      <td>[ Jacqueline M. Quinless]</td>\n",
       "      <td>24.95</td>\n",
       "      <td>24.95</td>\n",
       "      <td>172.0</td>\n",
       "      <td>4.6</td>\n",
       "      <td>9.0</td>\n",
       "      <td>75%</td>\n",
       "      <td>9.0</td>\n",
       "      <td>English</td>\n",
       "      <td>University of Toronto Press (February 15, 2022)</td>\n",
       "      <td>25</td>\n",
       "      <td>/Decolonizing-Data-Unsettling-Conversations-Re...</td>\n",
       "      <td>https://www.amazon.com/Decolonizing-Data-Unset...</td>\n",
       "      <td>100</td>\n",
       "    </tr>\n",
       "    <tr>\n",
       "      <th>821</th>\n",
       "      <td>Machine Learning with PyTorch and Scikit-Learn...</td>\n",
       "      <td>[ Sebastian Raschka, Yuxi (Hayden) Liu, et al.]</td>\n",
       "      <td>39.02</td>\n",
       "      <td>39.02</td>\n",
       "      <td>774.0</td>\n",
       "      <td>4.6</td>\n",
       "      <td>164.0</td>\n",
       "      <td>80%</td>\n",
       "      <td>164.0</td>\n",
       "      <td>English</td>\n",
       "      <td>Packt Publishing (February 25, 2022)</td>\n",
       "      <td>978-1801819312</td>\n",
       "      <td>/gp/slredirect/picassoRedirect.html/ref=pa_sp_...</td>\n",
       "      <td>https://www.amazon.com/gp/slredirect/picassoRe...</td>\n",
       "      <td>500</td>\n",
       "    </tr>\n",
       "    <tr>\n",
       "      <th>827</th>\n",
       "      <td>Practical Deep Learning at Scale with MLflow: ...</td>\n",
       "      <td>[ Yong Liu,  and , Dr. Matei Zaharia]</td>\n",
       "      <td>44.99</td>\n",
       "      <td>44.99</td>\n",
       "      <td>288.0</td>\n",
       "      <td>4.8</td>\n",
       "      <td>8.0</td>\n",
       "      <td>83%</td>\n",
       "      <td>8.0</td>\n",
       "      <td>English</td>\n",
       "      <td>Packt Publishing (July 8, 2022)</td>\n",
       "      <td>978-1803241333</td>\n",
       "      <td>/gp/slredirect/picassoRedirect.html/ref=pa_sp_...</td>\n",
       "      <td>https://www.amazon.com/gp/slredirect/picassoRe...</td>\n",
       "      <td>100</td>\n",
       "    </tr>\n",
       "  </tbody>\n",
       "</table>\n",
       "<p>266 rows × 15 columns</p>\n",
       "</div>\n",
       "      <button class=\"colab-df-convert\" onclick=\"convertToInteractive('df-f0fc7eaf-e590-4287-937b-11a421afaf26')\"\n",
       "              title=\"Convert this dataframe to an interactive table.\"\n",
       "              style=\"display:none;\">\n",
       "        \n",
       "  <svg xmlns=\"http://www.w3.org/2000/svg\" height=\"24px\"viewBox=\"0 0 24 24\"\n",
       "       width=\"24px\">\n",
       "    <path d=\"M0 0h24v24H0V0z\" fill=\"none\"/>\n",
       "    <path d=\"M18.56 5.44l.94 2.06.94-2.06 2.06-.94-2.06-.94-.94-2.06-.94 2.06-2.06.94zm-11 1L8.5 8.5l.94-2.06 2.06-.94-2.06-.94L8.5 2.5l-.94 2.06-2.06.94zm10 10l.94 2.06.94-2.06 2.06-.94-2.06-.94-.94-2.06-.94 2.06-2.06.94z\"/><path d=\"M17.41 7.96l-1.37-1.37c-.4-.4-.92-.59-1.43-.59-.52 0-1.04.2-1.43.59L10.3 9.45l-7.72 7.72c-.78.78-.78 2.05 0 2.83L4 21.41c.39.39.9.59 1.41.59.51 0 1.02-.2 1.41-.59l7.78-7.78 2.81-2.81c.8-.78.8-2.07 0-2.86zM5.41 20L4 18.59l7.72-7.72 1.47 1.35L5.41 20z\"/>\n",
       "  </svg>\n",
       "      </button>\n",
       "      \n",
       "  <style>\n",
       "    .colab-df-container {\n",
       "      display:flex;\n",
       "      flex-wrap:wrap;\n",
       "      gap: 12px;\n",
       "    }\n",
       "\n",
       "    .colab-df-convert {\n",
       "      background-color: #E8F0FE;\n",
       "      border: none;\n",
       "      border-radius: 50%;\n",
       "      cursor: pointer;\n",
       "      display: none;\n",
       "      fill: #1967D2;\n",
       "      height: 32px;\n",
       "      padding: 0 0 0 0;\n",
       "      width: 32px;\n",
       "    }\n",
       "\n",
       "    .colab-df-convert:hover {\n",
       "      background-color: #E2EBFA;\n",
       "      box-shadow: 0px 1px 2px rgba(60, 64, 67, 0.3), 0px 1px 3px 1px rgba(60, 64, 67, 0.15);\n",
       "      fill: #174EA6;\n",
       "    }\n",
       "\n",
       "    [theme=dark] .colab-df-convert {\n",
       "      background-color: #3B4455;\n",
       "      fill: #D2E3FC;\n",
       "    }\n",
       "\n",
       "    [theme=dark] .colab-df-convert:hover {\n",
       "      background-color: #434B5C;\n",
       "      box-shadow: 0px 1px 3px 1px rgba(0, 0, 0, 0.15);\n",
       "      filter: drop-shadow(0px 1px 2px rgba(0, 0, 0, 0.3));\n",
       "      fill: #FFFFFF;\n",
       "    }\n",
       "  </style>\n",
       "\n",
       "      <script>\n",
       "        const buttonEl =\n",
       "          document.querySelector('#df-f0fc7eaf-e590-4287-937b-11a421afaf26 button.colab-df-convert');\n",
       "        buttonEl.style.display =\n",
       "          google.colab.kernel.accessAllowed ? 'block' : 'none';\n",
       "\n",
       "        async function convertToInteractive(key) {\n",
       "          const element = document.querySelector('#df-f0fc7eaf-e590-4287-937b-11a421afaf26');\n",
       "          const dataTable =\n",
       "            await google.colab.kernel.invokeFunction('convertToInteractive',\n",
       "                                                     [key], {});\n",
       "          if (!dataTable) return;\n",
       "\n",
       "          const docLinkHtml = 'Like what you see? Visit the ' +\n",
       "            '<a target=\"_blank\" href=https://colab.research.google.com/notebooks/data_table.ipynb>data table notebook</a>'\n",
       "            + ' to learn more about interactive tables.';\n",
       "          element.innerHTML = '';\n",
       "          dataTable['output_type'] = 'display_data';\n",
       "          await google.colab.output.renderOutput(dataTable, element);\n",
       "          const docLink = document.createElement('div');\n",
       "          docLink.innerHTML = docLinkHtml;\n",
       "          element.appendChild(docLink);\n",
       "        }\n",
       "      </script>\n",
       "    </div>\n",
       "  </div>\n",
       "  "
      ],
      "text/plain": [
       "                                                 title  \\\n",
       "2    Guerrilla Data Analysis Using Microsoft Excel:...   \n",
       "4    Excel Data Analysis For Dummies (For Dummies (...   \n",
       "6    SQL for Data Analysis: Advanced Techniques for...   \n",
       "7      Qualitative Data Analysis: A Methods Sourcebook   \n",
       "11   SQL for Data Analytics: Perform efficient and ...   \n",
       "..                                                 ...   \n",
       "802  The Digital Mindset: What It Really Takes to T...   \n",
       "810  Tableau Prep Cookbook: Use Tableau Prep to cle...   \n",
       "819  Decolonizing Data: Unsettling Conversations ab...   \n",
       "821  Machine Learning with PyTorch and Scikit-Learn...   \n",
       "827  Practical Deep Learning at Scale with MLflow: ...   \n",
       "\n",
       "                                               author  price  \\\n",
       "2                  [ Oz du Soleil,  and , Bill Jelen]  32.07   \n",
       "4                                   [ Paul McFedries]  24.49   \n",
       "6                                   [ Cathy Tanimura]  40.49   \n",
       "7    [ Matthew B. Miles, A. Michael Huberman, et al.]  90.00   \n",
       "11                                    [ Chad Knowles]  15.97   \n",
       "..                                                ...    ...   \n",
       "802            [ Paul Leonardi,  and , Tsedal Neeley]  19.69   \n",
       "810                                 [ Hendrik Kleine]  41.99   \n",
       "819                         [ Jacqueline M. Quinless]  24.95   \n",
       "821   [ Sebastian Raschka, Yuxi (Hayden) Liu, et al.]  39.02   \n",
       "827             [ Yong Liu,  and , Dr. Matei Zaharia]  44.99   \n",
       "\n",
       "     price (including used books)  pages  avg_reviews  n_reviews star5  \\\n",
       "2                           32.07  274.0          4.7       10.0   87%   \n",
       "4                           24.49  368.0          3.9       12.0   52%   \n",
       "6                           40.49  360.0          4.6       72.0   75%   \n",
       "7                           90.00  408.0          4.7      205.0   84%   \n",
       "11                          15.97  106.0          4.9      201.0   91%   \n",
       "..                            ...    ...          ...        ...   ...   \n",
       "802                         19.69  272.0          4.4       73.0   68%   \n",
       "810                         41.99  288.0          4.1       17.0   63%   \n",
       "819                         24.95  172.0          4.6        9.0   75%   \n",
       "821                         39.02  774.0          4.6      164.0   80%   \n",
       "827                         44.99  288.0          4.8        8.0   83%   \n",
       "\n",
       "     weight language                                          publisher  \\\n",
       "2      10.0  English  Holy Macro! Books; Third edition (August 1, 2022)   \n",
       "4      12.0  English        For Dummies; 5th edition (February 3, 2022)   \n",
       "6      72.0  English      O'Reilly Media; 1st edition (October 5, 2021)   \n",
       "7     205.0  English  SAGE Publications, Inc; 4th edition (January 2...   \n",
       "11    201.0  English       Independently published (September 21, 2022)   \n",
       "..      ...      ...                                                ...   \n",
       "802    73.0  English       Harvard Business Review Press (May 10, 2022)   \n",
       "810    17.0  English                  Packt Publishing (March 19, 2021)   \n",
       "819     9.0  English    University of Toronto Press (February 15, 2022)   \n",
       "821   164.0  English               Packt Publishing (February 25, 2022)   \n",
       "827     8.0  English                    Packt Publishing (July 8, 2022)   \n",
       "\n",
       "                         ISBN_13  \\\n",
       "2                 978-1615470747   \n",
       "4                 978-1119844426   \n",
       "6                 978-1492088783   \n",
       "7    Research in Drama Education   \n",
       "11                979-8354008353   \n",
       "..                           ...   \n",
       "802               978-1647820107   \n",
       "810               978-1800563766   \n",
       "819                           25   \n",
       "821               978-1801819312   \n",
       "827               978-1803241333   \n",
       "\n",
       "                                                  link  \\\n",
       "2    /Guerrilla-Analysis-Using-Microsoft-Excel/dp/1...   \n",
       "4    /Excel-Data-Analysis-Dummies-Computer/dp/11198...   \n",
       "6    /SQL-Data-Analysis-Techniques-Transforming/dp/...   \n",
       "7    /Qualitative-Data-Analysis-Methods-Sourcebook/...   \n",
       "11   /gp/slredirect/picassoRedirect.html/ref=pa_sp_...   \n",
       "..                                                 ...   \n",
       "802  /Digital-Mindset-Really-Thrive-Algorithms/dp/1...   \n",
       "810  /gp/slredirect/picassoRedirect.html/ref=pa_sp_...   \n",
       "819  /Decolonizing-Data-Unsettling-Conversations-Re...   \n",
       "821  /gp/slredirect/picassoRedirect.html/ref=pa_sp_...   \n",
       "827  /gp/slredirect/picassoRedirect.html/ref=pa_sp_...   \n",
       "\n",
       "                                         complete_link rate_ship (Rs)  \n",
       "2    https://www.amazon.com/Guerrilla-Analysis-Usin...            100  \n",
       "4    https://www.amazon.com/Excel-Data-Analysis-Dum...            100  \n",
       "6    https://www.amazon.com/SQL-Data-Analysis-Techn...            500  \n",
       "7    https://www.amazon.com/Qualitative-Data-Analys...            500  \n",
       "11   https://www.amazon.com/gp/slredirect/picassoRe...            500  \n",
       "..                                                 ...            ...  \n",
       "802  https://www.amazon.com/Digital-Mindset-Really-...            500  \n",
       "810  https://www.amazon.com/gp/slredirect/picassoRe...            100  \n",
       "819  https://www.amazon.com/Decolonizing-Data-Unset...            100  \n",
       "821  https://www.amazon.com/gp/slredirect/picassoRe...            500  \n",
       "827  https://www.amazon.com/gp/slredirect/picassoRe...            100  \n",
       "\n",
       "[266 rows x 15 columns]"
      ]
     },
     "execution_count": 47,
     "metadata": {},
     "output_type": "execute_result"
    }
   ],
   "source": [
    "bookdata3"
   ]
  },
  {
   "cell_type": "markdown",
   "metadata": {
    "id": "PuTRIkp8a-xf"
   },
   "source": [
    "#### Q2: List the top 10 authors who has the highest rated books"
   ]
  },
  {
   "cell_type": "code",
   "execution_count": null,
   "metadata": {
    "executionInfo": {
     "elapsed": 18,
     "status": "aborted",
     "timestamp": 1681363592913,
     "user": {
      "displayName": "Gaurav sharma",
      "userId": "03881896638130988318"
     },
     "user_tz": -330
    },
    "id": "vb0UwtZ7Tiwn"
   },
   "outputs": [],
   "source": [
    "top_authors_series = bookdata3.nlargest(10, 'n_reviews')"
   ]
  },
  {
   "cell_type": "code",
   "execution_count": null,
   "metadata": {
    "executionInfo": {
     "elapsed": 18,
     "status": "aborted",
     "timestamp": 1681363592914,
     "user": {
      "displayName": "Gaurav sharma",
      "userId": "03881896638130988318"
     },
     "user_tz": -330
    },
    "id": "LbOHm1oFTyJ9"
   },
   "outputs": [],
   "source": [
    "top_authors_series"
   ]
  },
  {
   "cell_type": "code",
   "execution_count": null,
   "metadata": {
    "executionInfo": {
     "elapsed": 18,
     "status": "aborted",
     "timestamp": 1681363592914,
     "user": {
      "displayName": "Gaurav sharma",
      "userId": "03881896638130988318"
     },
     "user_tz": -330
    },
    "id": "00wn-wqqUn9F"
   },
   "outputs": [],
   "source": [
    "sns.barplot(y = top_authors_series['author'], x = top_authors_series['n_reviews'])\n",
    "plt.xticks(rotation = 0);"
   ]
  },
  {
   "cell_type": "markdown",
   "metadata": {
    "id": "sweKVFQpa-xf"
   },
   "source": [
    "#### Q3: IS THE PRICE WORTH THE BOOK?  (***price vs rating***)"
   ]
  },
  {
   "cell_type": "code",
   "execution_count": null,
   "metadata": {
    "executionInfo": {
     "elapsed": 19,
     "status": "aborted",
     "timestamp": 1681363592915,
     "user": {
      "displayName": "Gaurav sharma",
      "userId": "03881896638130988318"
     },
     "user_tz": -330
    },
    "id": "l8YaJBixVeI6"
   },
   "outputs": [],
   "source": [
    "sns.scatterplot(x = bookdata3['price'], y = bookdata3['avg_reviews'], hue = bookdata3['avg_reviews']);"
   ]
  },
  {
   "cell_type": "markdown",
   "metadata": {
    "id": "cq4kLY7Ma-xg"
   },
   "source": [
    "#### Q4: which is the highest rated book"
   ]
  },
  {
   "cell_type": "code",
   "execution_count": null,
   "metadata": {
    "executionInfo": {
     "elapsed": 20,
     "status": "aborted",
     "timestamp": 1681363592916,
     "user": {
      "displayName": "Gaurav sharma",
      "userId": "03881896638130988318"
     },
     "user_tz": -330
    },
    "id": "WYx92dXNXWdS"
   },
   "outputs": [],
   "source": [
    "highest_avg_reviews = bookdata3.nlargest(10, 'avg_reviews')"
   ]
  },
  {
   "cell_type": "code",
   "execution_count": null,
   "metadata": {
    "executionInfo": {
     "elapsed": 20,
     "status": "aborted",
     "timestamp": 1681363592916,
     "user": {
      "displayName": "Gaurav sharma",
      "userId": "03881896638130988318"
     },
     "user_tz": -330
    },
    "id": "zfcM3D78a-xg"
   },
   "outputs": [],
   "source": [
    "highest_n_reviews = bookdata3.nlargest(10, 'n_reviews')"
   ]
  },
  {
   "cell_type": "code",
   "execution_count": null,
   "metadata": {
    "executionInfo": {
     "elapsed": 20,
     "status": "aborted",
     "timestamp": 1681363592916,
     "user": {
      "displayName": "Gaurav sharma",
      "userId": "03881896638130988318"
     },
     "user_tz": -330
    },
    "id": "L28feu6Aa-xg"
   },
   "outputs": [],
   "source": [
    "highest_merge = pd.merge(highest_avg_reviews, highest_n_reviews, right_index = True,\n",
    "               left_index = True)"
   ]
  },
  {
   "cell_type": "code",
   "execution_count": null,
   "metadata": {
    "executionInfo": {
     "elapsed": 23,
     "status": "aborted",
     "timestamp": 1681363592920,
     "user": {
      "displayName": "Gaurav sharma",
      "userId": "03881896638130988318"
     },
     "user_tz": -330
    },
    "id": "FQR8IYqEa-xh"
   },
   "outputs": [],
   "source": [
    "highest_merge"
   ]
  },
  {
   "cell_type": "code",
   "execution_count": null,
   "metadata": {
    "executionInfo": {
     "elapsed": 24,
     "status": "aborted",
     "timestamp": 1681363592921,
     "user": {
      "displayName": "Gaurav sharma",
      "userId": "03881896638130988318"
     },
     "user_tz": -330
    },
    "id": "5OnrZhpgZiXo"
   },
   "outputs": [],
   "source": [
    "sns.barplot(y = highest_merge['title_x'], x = highest_merge['n_reviews_x'])\n",
    "plt.xticks(rotation = 75);"
   ]
  },
  {
   "cell_type": "markdown",
   "metadata": {
    "id": "DO20GgYfa-xg"
   },
   "source": [
    "#### Q5: lowest rated book "
   ]
  },
  {
   "cell_type": "code",
   "execution_count": null,
   "metadata": {
    "executionInfo": {
     "elapsed": 24,
     "status": "aborted",
     "timestamp": 1681363592921,
     "user": {
      "displayName": "Gaurav sharma",
      "userId": "03881896638130988318"
     },
     "user_tz": -330
    },
    "id": "AEw2dHiBaNOV"
   },
   "outputs": [],
   "source": [
    "lowest_avg_reviews = bookdata3.nsmallest(10, 'avg_reviews')"
   ]
  },
  {
   "cell_type": "code",
   "execution_count": null,
   "metadata": {
    "executionInfo": {
     "elapsed": 24,
     "status": "aborted",
     "timestamp": 1681363592921,
     "user": {
      "displayName": "Gaurav sharma",
      "userId": "03881896638130988318"
     },
     "user_tz": -330
    },
    "id": "qNdTy6uhaXda"
   },
   "outputs": [],
   "source": [
    "lowest_n_reviews = bookdata3.nsmallest(10, 'n_reviews')"
   ]
  },
  {
   "cell_type": "code",
   "execution_count": null,
   "metadata": {
    "executionInfo": {
     "elapsed": 25,
     "status": "aborted",
     "timestamp": 1681363592922,
     "user": {
      "displayName": "Gaurav sharma",
      "userId": "03881896638130988318"
     },
     "user_tz": -330
    },
    "id": "SCvWOqJJacBP"
   },
   "outputs": [],
   "source": [
    "merged_reviews = pd.merge(lowest_avg_reviews, lowest_n_reviews)"
   ]
  },
  {
   "cell_type": "code",
   "execution_count": null,
   "metadata": {
    "executionInfo": {
     "elapsed": 25,
     "status": "aborted",
     "timestamp": 1681363592922,
     "user": {
      "displayName": "Gaurav sharma",
      "userId": "03881896638130988318"
     },
     "user_tz": -330
    },
    "id": "ra-JPjfJaz75"
   },
   "outputs": [],
   "source": [
    "merged_reviews"
   ]
  },
  {
   "cell_type": "code",
   "execution_count": null,
   "metadata": {
    "executionInfo": {
     "elapsed": 25,
     "status": "aborted",
     "timestamp": 1681363592922,
     "user": {
      "displayName": "Gaurav sharma",
      "userId": "03881896638130988318"
     },
     "user_tz": -330
    },
    "id": "Y_btz8Qha5IY"
   },
   "outputs": [],
   "source": [
    "sns.barplot(y = merged_reviews['title'], x = merged_reviews['n_reviews'])\n",
    "plt.xticks(rotation = 75);"
   ]
  },
  {
   "cell_type": "markdown",
   "metadata": {
    "id": "umet9_99a-xh"
   },
   "source": [
    "Let us save and upload our work to Jovian before continuing."
   ]
  },
  {
   "cell_type": "code",
   "execution_count": 48,
   "metadata": {
    "executionInfo": {
     "elapsed": 6,
     "status": "ok",
     "timestamp": 1681364284744,
     "user": {
      "displayName": "Gaurav sharma",
      "userId": "03881896638130988318"
     },
     "user_tz": -330
    },
    "id": "kmYq7Wova-xh"
   },
   "outputs": [],
   "source": [
    "import jovian"
   ]
  },
  {
   "cell_type": "code",
   "execution_count": 49,
   "metadata": {
    "colab": {
     "base_uri": "https://localhost:8080/"
    },
    "executionInfo": {
     "elapsed": 3,
     "status": "ok",
     "timestamp": 1681364284744,
     "user": {
      "displayName": "Gaurav sharma",
      "userId": "03881896638130988318"
     },
     "user_tz": -330
    },
    "id": "GhbMT2TEa-xh",
    "outputId": "9ad1d953-b14a-4a1f-9b9e-512ae81fbbe9"
   },
   "outputs": [
    {
     "name": "stdout",
     "output_type": "stream",
     "text": [
      "[jovian] Detected Colab notebook...\u001b[0m\n",
      "[jovian] jovian.commit() is no longer required on Google Colab. If you ran this notebook from Jovian, \n",
      "then just save this file in Colab using Ctrl+S/Cmd+S and it will be updated on Jovian. \n",
      "Also, you can also delete this cell, it's no longer necessary.\u001b[0m\n"
     ]
    }
   ],
   "source": [
    "jovian.commit()"
   ]
  },
  {
   "cell_type": "markdown",
   "metadata": {
    "id": "gV77nKifa-xh"
   },
   "source": [
    "## Inferences and Conclusion\n",
    "\n",
    "***From my analysis, I was able to see which books were more popular based on the number of ratings they received, the average rating for each book, and even the relationship between book prices and ratings. Overall, my analysis has provided valuable insights into the Amazon Data Science book data set, allowing us to understand its contents more deeply.***"
   ]
  },
  {
   "cell_type": "code",
   "execution_count": null,
   "metadata": {
    "executionInfo": {
     "elapsed": 25,
     "status": "aborted",
     "timestamp": 1681363592923,
     "user": {
      "displayName": "Gaurav sharma",
      "userId": "03881896638130988318"
     },
     "user_tz": -330
    },
    "id": "ScpWZcfGa-xh"
   },
   "outputs": [],
   "source": [
    "import jovian"
   ]
  },
  {
   "cell_type": "code",
   "execution_count": null,
   "metadata": {
    "executionInfo": {
     "elapsed": 25,
     "status": "aborted",
     "timestamp": 1681363592923,
     "user": {
      "displayName": "Gaurav sharma",
      "userId": "03881896638130988318"
     },
     "user_tz": -330
    },
    "id": "sKM8XcWra-xh"
   },
   "outputs": [],
   "source": [
    "jovian.commit()"
   ]
  },
  {
   "cell_type": "markdown",
   "metadata": {
    "id": "bpYMi7M8a-xi"
   },
   "source": [
    "## References and Future Work\n",
    "\n",
    "References:\n",
    "\n",
    "Amazon Data Science Book dataset (source: https://www.kaggle.com/sootersaalu/amazon-top-50-bestselling-books-2009-2019)\n",
    "Pandas documentation (source: https://pandas.pydata.org/pandas-docs/stable/)\n",
    "NumPy documentation (source: https://numpy.org/doc/)\n",
    "Seaborn documentation (source: https://seaborn.pydata.org/)\n",
    "Matplotlib documentation (source: https://matplotlib.org/)\n",
    "\n",
    "Future Work:\n",
    "\n",
    "Apply advanced machine learning algorithms such as neural networks and deep learning to the Amazon Data Science Book dataset to build predictive models for book sales and ratings.\n",
    "\n",
    "Incorporate additional external datasets, such as demographic data or book industry trends, to gain deeper insights into the factors that influence book sales and popularity.\n",
    "\n",
    "Use natural language processing techniques to analyze book reviews and extract insights into readers' opinions on specific books or authors.\n",
    "Explore the impact of advertising and marketing campaigns on book sales and ratings, and identify the most effective strategies for promoting books in the data set.\n",
    "\n",
    "Investigate the impact of external events such as awards, media coverage, and author appearances on book sales and ratings in the data set."
   ]
  },
  {
   "cell_type": "code",
   "execution_count": 1,
   "metadata": {
    "colab": {
     "base_uri": "https://localhost:8080/",
     "height": 304
    },
    "executionInfo": {
     "elapsed": 2073,
     "status": "error",
     "timestamp": 1681363470519,
     "user": {
      "displayName": "Gaurav sharma",
      "userId": "03881896638130988318"
     },
     "user_tz": -330
    },
    "id": "F7hlLYIOa-xi",
    "outputId": "8f0bb3b6-5bd1-40b5-8e32-8cce018eed78"
   },
   "outputs": [
    {
     "ename": "ModuleNotFoundError",
     "errorDetails": {
      "actions": [
       {
        "action": "open_url",
        "actionText": "Open Examples",
        "url": "/notebooks/snippets/importing_libraries.ipynb"
       }
      ]
     },
     "evalue": "ignored",
     "output_type": "error",
     "traceback": [
      "\u001b[0;31m---------------------------------------------------------------------------\u001b[0m",
      "\u001b[0;31mModuleNotFoundError\u001b[0m                       Traceback (most recent call last)",
      "\u001b[0;32m<ipython-input-1-abad2ca33baa>\u001b[0m in \u001b[0;36m<cell line: 1>\u001b[0;34m()\u001b[0m\n\u001b[0;32m----> 1\u001b[0;31m \u001b[0;32mimport\u001b[0m \u001b[0mjovian\u001b[0m\u001b[0;34m\u001b[0m\u001b[0;34m\u001b[0m\u001b[0m\n\u001b[0m",
      "\u001b[0;31mModuleNotFoundError\u001b[0m: No module named 'jovian'",
      "",
      "\u001b[0;31m---------------------------------------------------------------------------\u001b[0;32m\nNOTE: If your import is failing due to a missing package, you can\nmanually install dependencies using either !pip or !apt.\n\nTo view examples of installing some common dependencies, click the\n\"Open Examples\" button below.\n\u001b[0;31m---------------------------------------------------------------------------\u001b[0m\n"
     ]
    }
   ],
   "source": [
    "import jovian"
   ]
  },
  {
   "cell_type": "code",
   "execution_count": null,
   "metadata": {
    "executionInfo": {
     "elapsed": 5,
     "status": "aborted",
     "timestamp": 1681363470520,
     "user": {
      "displayName": "Gaurav sharma",
      "userId": "03881896638130988318"
     },
     "user_tz": -330
    },
    "id": "-6SDVPdRa-xi",
    "scrolled": true
   },
   "outputs": [],
   "source": [
    "jovian.commit()"
   ]
  },
  {
   "cell_type": "code",
   "execution_count": null,
   "metadata": {
    "id": "jC4AaOMka-xi"
   },
   "outputs": [],
   "source": []
  }
 ],
 "metadata": {
  "colab": {
   "provenance": []
  },
  "language_info": {
   "codemirror_mode": {
    "name": "ipython",
    "version": 3
   },
   "file_extension": ".py",
   "mimetype": "text/x-python",
   "name": "python",
   "nbconvert_exporter": "python",
   "pygments_lexer": "ipython3",
   "version": "3.8.5"
  }
 },
 "nbformat": 4,
 "nbformat_minor": 0
}